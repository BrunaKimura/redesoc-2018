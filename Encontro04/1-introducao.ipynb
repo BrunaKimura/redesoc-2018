{
 "cells": [
  {
   "cell_type": "markdown",
   "metadata": {},
   "source": [
    "# (Re)introdução a Grafos\n",
    "\n",
    "Este guia foi escrito para ajudar você a atingir os seguintes objetivos:\n",
    "\n",
    "* formalizar conceitos básicos de teoria dos grafos;\n",
    "* usar funcionalidades básicas da biblioteca da disciplina.\n",
    "\n",
    "\n",
    "## Grafos não-dirigidos\n",
    "\n",
    "Um **grafo não-dirigido** (*undirected graph*) é um par\n",
    "\n",
    "$(N, E)$,\n",
    "\n",
    "onde $N$ é um conjunto qualquer e $E$ é um conjunto de pares *não-ordenados* de elementos de $N$, ou seja,\n",
    "\n",
    "$E \\subseteq \\{\\{n, m\\} \\colon n \\in N \\textrm{ e } m \\in N\\}$.\n",
    "\n",
    "Um elemento de $N$ chama-se **nó** (*node*) e um elemento de $E$ chama-se **aresta** (*edge*). Em alguns trabalhos, usa-se $V$ e *vértice* em vez de $N$ e nó.\n",
    "\n",
    "\n",
    "## Grafos dirigidos\n",
    "\n",
    "Formalmente, um **grafo dirigido** (*directed graph*) é um par\n",
    "\n",
    "$(N, E)$,\n",
    "\n",
    "onde $N$ é um conjunto qualquer e $E$ é um conjunto de pares *ordenados* de elementos de *N*, ou seja,\n",
    "\n",
    "$E \\subseteq \\{(n, m) \\colon n \\in N \\textrm{ e } m \\in N\\}$.\n",
    "\n",
    "Um elemento de $N$ chama-se **nó** (*node*) e um elemento de $E$ chama-se **aresta** (*edge*). Em alguns trabalhos, usa-se $V$ e *vértice* em vez de $N$ e nó e usa-se $A$ e *arco* em vez de $E$ e aresta.\n",
    "\n",
    "\n",
    "## Instalando as dependências\n",
    "\n",
    "Antes de continuar, instale as duas dependências da biblioteca da disciplina:\n",
    "\n",
    "> `pip install networkx plotly`\n",
    "\n",
    "Em algumas distribuições Linux você deve usar o comando `pip3`, pois o comando `pip` está associado a Python 2 por padrão.\n",
    "\n",
    "\n",
    "## Importando a biblioteca\n",
    "\n",
    "Não mova ou renomeie os arquivos do repositório, a menos que você esteja disposto a adaptar os notebooks de acordo.\n",
    "\n",
    "Vamos importar a biblioteca da disciplina no notebook:"
   ]
  },
  {
   "cell_type": "code",
   "execution_count": 1,
   "metadata": {},
   "outputs": [
    {
     "name": "stderr",
     "output_type": "stream",
     "text": [
      "/usr/lib/python3.6/importlib/_bootstrap.py:219: RuntimeWarning: numpy.dtype size changed, may indicate binary incompatibility. Expected 96, got 88\n",
      "  return f(*args, **kwds)\n",
      "/usr/lib/python3.6/importlib/_bootstrap.py:219: RuntimeWarning: numpy.dtype size changed, may indicate binary incompatibility. Expected 96, got 88\n",
      "  return f(*args, **kwds)\n"
     ]
    },
    {
     "data": {
      "text/html": [
       "<script>requirejs.config({paths: { 'plotly': ['https://cdn.plot.ly/plotly-latest.min']},});if(!window.Plotly) {{require(['plotly'],function(plotly) {window.Plotly=plotly;});}}</script>"
      ],
      "text/vnd.plotly.v1+html": [
       "<script>requirejs.config({paths: { 'plotly': ['https://cdn.plot.ly/plotly-latest.min']},});if(!window.Plotly) {{require(['plotly'],function(plotly) {window.Plotly=plotly;});}}</script>"
      ]
     },
     "metadata": {},
     "output_type": "display_data"
    }
   ],
   "source": [
    "import sys\n",
    "sys.path.append('..')\n",
    "\n",
    "import socnet as sn"
   ]
  },
  {
   "cell_type": "markdown",
   "metadata": {},
   "source": [
    "## Configurando a biblioteca\n",
    "\n",
    "A `socnet` disponibiliza variáveis de módulo que permitem configurar propriedades visuais. Os nomes são auto-explicativos e os valores abaixo são padrão."
   ]
  },
  {
   "cell_type": "code",
   "execution_count": 2,
   "metadata": {},
   "outputs": [],
   "source": [
    "sn.graph_width = 800\n",
    "sn.graph_height = 450\n",
    "\n",
    "sn.node_size = 20\n",
    "sn.node_color = (255, 255, 255)\n",
    "\n",
    "sn.edge_width = 2\n",
    "sn.edge_color = (0, 0, 0)\n",
    "\n",
    "sn.node_label_position = 'middle center'\n",
    "sn.edge_label_distance = 10"
   ]
  },
  {
   "cell_type": "markdown",
   "metadata": {},
   "source": [
    "Uma variável de cor armazena uma tupla contendo três inteiros entre *0* e *255* que representam intensidades de *vermelho*, *verde* e *azul* respectivamente.\n",
    "\n",
    "Uma variável de posição armazena uma string contendo duas palavras separadas por um espaço:\n",
    "* a primeira representa o alinhamento vertical e pode ser `top`, `middle` ou `bottom`;\n",
    "* a segunda representa o alinhamento horizontal e pode ser `left`, `center` ou `right`.\n",
    "\n",
    "## Carregando grafos\n",
    "\n",
    "Vamos carregar dois grafos no [formato GML](http://www.fim.uni-passau.de/fileadmin/files/lehrstuhl/brandenburg/projekte/gml/gml-technical-report.pdf):"
   ]
  },
  {
   "cell_type": "code",
   "execution_count": 3,
   "metadata": {},
   "outputs": [],
   "source": [
    "ug = sn.load_graph('5-kruskal.gml', has_pos=True)\n",
    "dg = sn.load_graph('4-dijkstra.gml', has_pos=True)"
   ]
  },
  {
   "cell_type": "markdown",
   "metadata": {},
   "source": [
    "Abra esses arquivos em um editor de texto e note como o formato é auto-explicativo.\n",
    "\n",
    "## Visualizando grafos\n",
    "\n",
    "Vamos visualizar o primeiro grafo, que é não-dirigido:"
   ]
  },
  {
   "cell_type": "code",
   "execution_count": 4,
   "metadata": {},
   "outputs": [
    {
     "data": {
      "application/vnd.plotly.v1+json": {
       "data": [
        {
         "hoverinfo": "none",
         "line": {
          "color": "rgb(0, 0, 0)",
          "width": 2
         },
         "mode": "lines",
         "type": "scatter",
         "uid": "40615976-a23e-11e8-8842-5cc9d35576a8",
         "x": [
          0,
          0.25,
          null,
          0,
          0.25,
          null,
          0.25,
          0.5,
          null,
          0.25,
          0.25,
          null,
          0.5,
          0.75,
          null,
          0.5,
          0.75,
          null,
          0.5,
          0.375,
          null,
          0.75,
          1,
          null,
          0.75,
          0.75,
          null,
          1,
          0.75,
          null,
          0.75,
          0.5,
          null,
          0.5,
          0.25,
          null,
          0.5,
          0.375,
          null,
          0.25,
          0.375,
          null
         ],
         "y": [
          0.5,
          1,
          null,
          0.5,
          0,
          null,
          1,
          1,
          null,
          1,
          0,
          null,
          1,
          1,
          null,
          1,
          0,
          null,
          1,
          0.5,
          null,
          1,
          0.5,
          null,
          1,
          0,
          null,
          0.5,
          0,
          null,
          0,
          0,
          null,
          0,
          0,
          null,
          0,
          0.5,
          null,
          0,
          0.5,
          null
         ]
        },
        {
         "hoverinfo": "none",
         "marker": {
          "color": "rgb(255, 255, 255)",
          "line": {
           "color": "rgb(0, 0, 0)",
           "width": 2
          },
          "size": 20
         },
         "mode": "markers+text",
         "text": [],
         "textfont": {
          "color": "rgb(0, 0, 0)"
         },
         "textposition": "middle center",
         "type": "scatter",
         "uid": "40615977-a23e-11e8-8842-5cc9d35576a8",
         "x": [
          0,
          0.25,
          0.5,
          0.75,
          1,
          0.75,
          0.5,
          0.25,
          0.375
         ],
         "y": [
          0.5,
          1,
          1,
          1,
          0.5,
          0,
          0,
          0,
          0.5
         ]
        }
       ],
       "layout": {
        "height": 180,
        "margin": {
         "b": 0,
         "l": 0,
         "r": 0,
         "t": 0
        },
        "showlegend": false,
        "width": 320,
        "xaxis": {
         "showgrid": false,
         "showticklabels": false,
         "zeroline": false
        },
        "yaxis": {
         "showgrid": false,
         "showticklabels": false,
         "zeroline": false
        }
       }
      },
      "text/html": [
       "<div id=\"294f2141-645d-4bc9-a5c1-c670e9fefa3f\" style=\"height: 180px; width: 320px;\" class=\"plotly-graph-div\"></div><script type=\"text/javascript\">require([\"plotly\"], function(Plotly) { window.PLOTLYENV=window.PLOTLYENV || {};window.PLOTLYENV.BASE_URL=\"https://plot.ly\";Plotly.newPlot(\"294f2141-645d-4bc9-a5c1-c670e9fefa3f\", [{\"hoverinfo\": \"none\", \"line\": {\"color\": \"rgb(0, 0, 0)\", \"width\": 2}, \"mode\": \"lines\", \"x\": [0.0, 0.25, null, 0.0, 0.25, null, 0.25, 0.5, null, 0.25, 0.25, null, 0.5, 0.75, null, 0.5, 0.75, null, 0.5, 0.375, null, 0.75, 1.0, null, 0.75, 0.75, null, 1.0, 0.75, null, 0.75, 0.5, null, 0.5, 0.25, null, 0.5, 0.375, null, 0.25, 0.375, null], \"y\": [0.5, 1.0, null, 0.5, 0.0, null, 1.0, 1.0, null, 1.0, 0.0, null, 1.0, 1.0, null, 1.0, 0.0, null, 1.0, 0.5, null, 1.0, 0.5, null, 1.0, 0.0, null, 0.5, 0.0, null, 0.0, 0.0, null, 0.0, 0.0, null, 0.0, 0.5, null, 0.0, 0.5, null], \"type\": \"scatter\", \"uid\": \"40615978-a23e-11e8-8842-5cc9d35576a8\"}, {\"hoverinfo\": \"none\", \"marker\": {\"color\": \"rgb(255, 255, 255)\", \"line\": {\"color\": \"rgb(0, 0, 0)\", \"width\": 2}, \"size\": 20}, \"mode\": \"markers+text\", \"text\": [], \"textfont\": {\"color\": \"rgb(0, 0, 0)\"}, \"textposition\": \"middle center\", \"x\": [0.0, 0.25, 0.5, 0.75, 1.0, 0.75, 0.5, 0.25, 0.375], \"y\": [0.5, 1.0, 1.0, 1.0, 0.5, 0.0, 0.0, 0.0, 0.5], \"type\": \"scatter\", \"uid\": \"40615979-a23e-11e8-8842-5cc9d35576a8\"}], {\"height\": 180, \"margin\": {\"b\": 0, \"l\": 0, \"r\": 0, \"t\": 0}, \"showlegend\": false, \"width\": 320, \"xaxis\": {\"showgrid\": false, \"showticklabels\": false, \"zeroline\": false}, \"yaxis\": {\"showgrid\": false, \"showticklabels\": false, \"zeroline\": false}}, {\"showLink\": false, \"linkText\": \"Export to plot.ly\", \"displayModeBar\": false})});</script>"
      ],
      "text/vnd.plotly.v1+html": [
       "<div id=\"294f2141-645d-4bc9-a5c1-c670e9fefa3f\" style=\"height: 180px; width: 320px;\" class=\"plotly-graph-div\"></div><script type=\"text/javascript\">require([\"plotly\"], function(Plotly) { window.PLOTLYENV=window.PLOTLYENV || {};window.PLOTLYENV.BASE_URL=\"https://plot.ly\";Plotly.newPlot(\"294f2141-645d-4bc9-a5c1-c670e9fefa3f\", [{\"hoverinfo\": \"none\", \"line\": {\"color\": \"rgb(0, 0, 0)\", \"width\": 2}, \"mode\": \"lines\", \"x\": [0.0, 0.25, null, 0.0, 0.25, null, 0.25, 0.5, null, 0.25, 0.25, null, 0.5, 0.75, null, 0.5, 0.75, null, 0.5, 0.375, null, 0.75, 1.0, null, 0.75, 0.75, null, 1.0, 0.75, null, 0.75, 0.5, null, 0.5, 0.25, null, 0.5, 0.375, null, 0.25, 0.375, null], \"y\": [0.5, 1.0, null, 0.5, 0.0, null, 1.0, 1.0, null, 1.0, 0.0, null, 1.0, 1.0, null, 1.0, 0.0, null, 1.0, 0.5, null, 1.0, 0.5, null, 1.0, 0.0, null, 0.5, 0.0, null, 0.0, 0.0, null, 0.0, 0.0, null, 0.0, 0.5, null, 0.0, 0.5, null], \"type\": \"scatter\", \"uid\": \"40615978-a23e-11e8-8842-5cc9d35576a8\"}, {\"hoverinfo\": \"none\", \"marker\": {\"color\": \"rgb(255, 255, 255)\", \"line\": {\"color\": \"rgb(0, 0, 0)\", \"width\": 2}, \"size\": 20}, \"mode\": \"markers+text\", \"text\": [], \"textfont\": {\"color\": \"rgb(0, 0, 0)\"}, \"textposition\": \"middle center\", \"x\": [0.0, 0.25, 0.5, 0.75, 1.0, 0.75, 0.5, 0.25, 0.375], \"y\": [0.5, 1.0, 1.0, 1.0, 0.5, 0.0, 0.0, 0.0, 0.5], \"type\": \"scatter\", \"uid\": \"40615979-a23e-11e8-8842-5cc9d35576a8\"}], {\"height\": 180, \"margin\": {\"b\": 0, \"l\": 0, \"r\": 0, \"t\": 0}, \"showlegend\": false, \"width\": 320, \"xaxis\": {\"showgrid\": false, \"showticklabels\": false, \"zeroline\": false}, \"yaxis\": {\"showgrid\": false, \"showticklabels\": false, \"zeroline\": false}}, {\"showLink\": false, \"linkText\": \"Export to plot.ly\", \"displayModeBar\": false})});</script>"
      ]
     },
     "metadata": {},
     "output_type": "display_data"
    }
   ],
   "source": [
    "sn.graph_width = 320\n",
    "sn.graph_height = 180\n",
    "\n",
    "sn.show_graph(ug)"
   ]
  },
  {
   "cell_type": "markdown",
   "metadata": {},
   "source": [
    "Essa é a representação mais comum de grafos não-dirigidos: círculos como nós e retas como arestas. Se uma reta *conecta* o círculo que representa $n$ ao círculo que representa $m$, ela representa a aresta $\\{n, m\\}$.\n",
    "\n",
    "Vamos agora visualizar o segundo grafo, que é dirigido:"
   ]
  },
  {
   "cell_type": "code",
   "execution_count": 5,
   "metadata": {},
   "outputs": [
    {
     "data": {
      "application/vnd.plotly.v1+json": {
       "data": [
        {
         "hoverinfo": "none",
         "line": {
          "color": "rgb(0, 0, 0)",
          "width": 2
         },
         "mode": "lines",
         "type": "scatter",
         "uid": "60cdd82e-a23e-11e8-8842-5cc9d35576a8",
         "x": [
          0,
          0.5,
          null,
          0.46643085439538495,
          0.44538388103556675,
          null,
          0.46643085439538495,
          0.4285584341548651,
          null,
          0,
          0.5,
          null,
          0.46643085439538495,
          0.4285584341548651,
          null,
          0.46643085439538495,
          0.44538388103556675,
          null,
          0.5,
          1,
          null,
          0.9621212121212122,
          0.9288794484132434,
          null,
          0.9621212121212122,
          0.9288794484132434,
          null,
          0.5075757575757576,
          0.5075757575757576,
          null,
          0.5075757575757576,
          0.5257358158562198,
          null,
          1.0075757575757576,
          1.0075757575757576,
          null,
          1.0075757575757576,
          1.0257358158562198,
          null,
          0.49242424242424243,
          0.49242424242424243,
          null,
          0.49242424242424243,
          0.4742641841437802,
          null,
          0.5,
          1,
          null,
          0.9738173240163878,
          0.9639630823912474,
          null,
          0.9738173240163878,
          0.9377166459078401,
          null,
          0.5,
          1,
          null,
          0.9621212121212122,
          0.9288794484132434,
          null,
          0.9621212121212122,
          0.9288794484132434,
          null,
          1,
          0,
          null,
          0.03664774299318793,
          0.07340128670201525,
          null,
          0.03664774299318793,
          0.06421703965128427,
          null,
          0.9924242424242424,
          0.9924242424242424,
          null,
          0.9924242424242424,
          0.9742641841437802,
          null
         ],
         "y": [
          0.5,
          1,
          null,
          0.966430854395385,
          0.906182816233176,
          null,
          0.966430854395385,
          0.967759498957256,
          null,
          0.5,
          0,
          null,
          0.03356914560461503,
          0.032240501042743994,
          null,
          0.03356914560461503,
          0.09381718376682407,
          null,
          1,
          1,
          null,
          1,
          0.9652590189417244,
          null,
          1,
          1.0347409810582755,
          null,
          1,
          0,
          null,
          0.07246376811594203,
          0.13605670738336034,
          null,
          1,
          0,
          null,
          0.07246376811594203,
          0.13605670738336034,
          null,
          0,
          1,
          null,
          0.927536231884058,
          0.8639432926166397,
          null,
          0,
          1,
          null,
          0.9476346480327754,
          0.8776659754484841,
          null,
          0.9476346480327754,
          0.9256934811496907,
          null,
          0,
          0,
          null,
          0,
          -0.03474098105827558,
          null,
          0,
          0.03474098105827558,
          null,
          0,
          0.5,
          null,
          0.481676128503406,
          0.4992073320037643,
          null,
          0.481676128503406,
          0.4319835048195859,
          null,
          0,
          1,
          null,
          0.927536231884058,
          0.8639432926166397,
          null
         ]
        },
        {
         "hoverinfo": "none",
         "marker": {
          "color": "rgb(255, 255, 255)",
          "line": {
           "color": "rgb(0, 0, 0)",
           "width": 2
          },
          "size": 20
         },
         "mode": "markers+text",
         "text": [],
         "textfont": {
          "color": "rgb(0, 0, 0)"
         },
         "textposition": "middle center",
         "type": "scatter",
         "uid": "60cdd82f-a23e-11e8-8842-5cc9d35576a8",
         "x": [
          0,
          0.5,
          1,
          0.5,
          1
         ],
         "y": [
          0.5,
          1,
          1,
          0,
          0
         ]
        }
       ],
       "layout": {
        "height": 180,
        "margin": {
         "b": 0,
         "l": 0,
         "r": 0,
         "t": 0
        },
        "showlegend": false,
        "width": 320,
        "xaxis": {
         "showgrid": false,
         "showticklabels": false,
         "zeroline": false
        },
        "yaxis": {
         "showgrid": false,
         "showticklabels": false,
         "zeroline": false
        }
       }
      },
      "text/html": [
       "<div id=\"2ffcb910-d96d-442c-b112-03b735c03e37\" style=\"height: 180px; width: 320px;\" class=\"plotly-graph-div\"></div><script type=\"text/javascript\">require([\"plotly\"], function(Plotly) { window.PLOTLYENV=window.PLOTLYENV || {};window.PLOTLYENV.BASE_URL=\"https://plot.ly\";Plotly.newPlot(\"2ffcb910-d96d-442c-b112-03b735c03e37\", [{\"hoverinfo\": \"none\", \"line\": {\"color\": \"rgb(0, 0, 0)\", \"width\": 2}, \"mode\": \"lines\", \"x\": [0.0, 0.5, null, 0.46643085439538495, 0.44538388103556675, null, 0.46643085439538495, 0.4285584341548651, null, 0.0, 0.5, null, 0.46643085439538495, 0.4285584341548651, null, 0.46643085439538495, 0.44538388103556675, null, 0.5, 1.0, null, 0.9621212121212122, 0.9288794484132434, null, 0.9621212121212122, 0.9288794484132434, null, 0.5075757575757576, 0.5075757575757576, null, 0.5075757575757576, 0.5257358158562198, null, 1.0075757575757576, 1.0075757575757576, null, 1.0075757575757576, 1.0257358158562198, null, 0.49242424242424243, 0.49242424242424243, null, 0.49242424242424243, 0.4742641841437802, null, 0.5, 1.0, null, 0.9738173240163878, 0.9639630823912474, null, 0.9738173240163878, 0.9377166459078401, null, 0.5, 1.0, null, 0.9621212121212122, 0.9288794484132434, null, 0.9621212121212122, 0.9288794484132434, null, 1.0, 0.0, null, 0.03664774299318793, 0.07340128670201525, null, 0.03664774299318793, 0.06421703965128427, null, 0.9924242424242424, 0.9924242424242424, null, 0.9924242424242424, 0.9742641841437802, null], \"y\": [0.5, 1.0, null, 0.966430854395385, 0.906182816233176, null, 0.966430854395385, 0.967759498957256, null, 0.5, 0.0, null, 0.03356914560461503, 0.032240501042743994, null, 0.03356914560461503, 0.09381718376682407, null, 1.0, 1.0, null, 1.0, 0.9652590189417244, null, 1.0, 1.0347409810582755, null, 1.0, 0.0, null, 0.07246376811594203, 0.13605670738336034, null, 1.0, 0.0, null, 0.07246376811594203, 0.13605670738336034, null, 0.0, 1.0, null, 0.927536231884058, 0.8639432926166397, null, 0.0, 1.0, null, 0.9476346480327754, 0.8776659754484841, null, 0.9476346480327754, 0.9256934811496907, null, 0.0, 0.0, null, 0.0, -0.03474098105827558, null, 0.0, 0.03474098105827558, null, 0.0, 0.5, null, 0.481676128503406, 0.4992073320037643, null, 0.481676128503406, 0.4319835048195859, null, 0.0, 1.0, null, 0.927536231884058, 0.8639432926166397, null], \"type\": \"scatter\", \"uid\": \"60cdd830-a23e-11e8-8842-5cc9d35576a8\"}, {\"hoverinfo\": \"none\", \"marker\": {\"color\": \"rgb(255, 255, 255)\", \"line\": {\"color\": \"rgb(0, 0, 0)\", \"width\": 2}, \"size\": 20}, \"mode\": \"markers+text\", \"text\": [], \"textfont\": {\"color\": \"rgb(0, 0, 0)\"}, \"textposition\": \"middle center\", \"x\": [0.0, 0.5, 1.0, 0.5, 1.0], \"y\": [0.5, 1.0, 1.0, 0.0, 0.0], \"type\": \"scatter\", \"uid\": \"60cdd831-a23e-11e8-8842-5cc9d35576a8\"}], {\"height\": 180, \"margin\": {\"b\": 0, \"l\": 0, \"r\": 0, \"t\": 0}, \"showlegend\": false, \"width\": 320, \"xaxis\": {\"showgrid\": false, \"showticklabels\": false, \"zeroline\": false}, \"yaxis\": {\"showgrid\": false, \"showticklabels\": false, \"zeroline\": false}}, {\"showLink\": false, \"linkText\": \"Export to plot.ly\", \"displayModeBar\": false})});</script>"
      ],
      "text/vnd.plotly.v1+html": [
       "<div id=\"2ffcb910-d96d-442c-b112-03b735c03e37\" style=\"height: 180px; width: 320px;\" class=\"plotly-graph-div\"></div><script type=\"text/javascript\">require([\"plotly\"], function(Plotly) { window.PLOTLYENV=window.PLOTLYENV || {};window.PLOTLYENV.BASE_URL=\"https://plot.ly\";Plotly.newPlot(\"2ffcb910-d96d-442c-b112-03b735c03e37\", [{\"hoverinfo\": \"none\", \"line\": {\"color\": \"rgb(0, 0, 0)\", \"width\": 2}, \"mode\": \"lines\", \"x\": [0.0, 0.5, null, 0.46643085439538495, 0.44538388103556675, null, 0.46643085439538495, 0.4285584341548651, null, 0.0, 0.5, null, 0.46643085439538495, 0.4285584341548651, null, 0.46643085439538495, 0.44538388103556675, null, 0.5, 1.0, null, 0.9621212121212122, 0.9288794484132434, null, 0.9621212121212122, 0.9288794484132434, null, 0.5075757575757576, 0.5075757575757576, null, 0.5075757575757576, 0.5257358158562198, null, 1.0075757575757576, 1.0075757575757576, null, 1.0075757575757576, 1.0257358158562198, null, 0.49242424242424243, 0.49242424242424243, null, 0.49242424242424243, 0.4742641841437802, null, 0.5, 1.0, null, 0.9738173240163878, 0.9639630823912474, null, 0.9738173240163878, 0.9377166459078401, null, 0.5, 1.0, null, 0.9621212121212122, 0.9288794484132434, null, 0.9621212121212122, 0.9288794484132434, null, 1.0, 0.0, null, 0.03664774299318793, 0.07340128670201525, null, 0.03664774299318793, 0.06421703965128427, null, 0.9924242424242424, 0.9924242424242424, null, 0.9924242424242424, 0.9742641841437802, null], \"y\": [0.5, 1.0, null, 0.966430854395385, 0.906182816233176, null, 0.966430854395385, 0.967759498957256, null, 0.5, 0.0, null, 0.03356914560461503, 0.032240501042743994, null, 0.03356914560461503, 0.09381718376682407, null, 1.0, 1.0, null, 1.0, 0.9652590189417244, null, 1.0, 1.0347409810582755, null, 1.0, 0.0, null, 0.07246376811594203, 0.13605670738336034, null, 1.0, 0.0, null, 0.07246376811594203, 0.13605670738336034, null, 0.0, 1.0, null, 0.927536231884058, 0.8639432926166397, null, 0.0, 1.0, null, 0.9476346480327754, 0.8776659754484841, null, 0.9476346480327754, 0.9256934811496907, null, 0.0, 0.0, null, 0.0, -0.03474098105827558, null, 0.0, 0.03474098105827558, null, 0.0, 0.5, null, 0.481676128503406, 0.4992073320037643, null, 0.481676128503406, 0.4319835048195859, null, 0.0, 1.0, null, 0.927536231884058, 0.8639432926166397, null], \"type\": \"scatter\", \"uid\": \"60cdd830-a23e-11e8-8842-5cc9d35576a8\"}, {\"hoverinfo\": \"none\", \"marker\": {\"color\": \"rgb(255, 255, 255)\", \"line\": {\"color\": \"rgb(0, 0, 0)\", \"width\": 2}, \"size\": 20}, \"mode\": \"markers+text\", \"text\": [], \"textfont\": {\"color\": \"rgb(0, 0, 0)\"}, \"textposition\": \"middle center\", \"x\": [0.0, 0.5, 1.0, 0.5, 1.0], \"y\": [0.5, 1.0, 1.0, 0.0, 0.0], \"type\": \"scatter\", \"uid\": \"60cdd831-a23e-11e8-8842-5cc9d35576a8\"}], {\"height\": 180, \"margin\": {\"b\": 0, \"l\": 0, \"r\": 0, \"t\": 0}, \"showlegend\": false, \"width\": 320, \"xaxis\": {\"showgrid\": false, \"showticklabels\": false, \"zeroline\": false}, \"yaxis\": {\"showgrid\": false, \"showticklabels\": false, \"zeroline\": false}}, {\"showLink\": false, \"linkText\": \"Export to plot.ly\", \"displayModeBar\": false})});</script>"
      ]
     },
     "metadata": {},
     "output_type": "display_data"
    }
   ],
   "source": [
    "sn.graph_width = 320\n",
    "sn.graph_height = 180\n",
    "\n",
    "sn.show_graph(dg)"
   ]
  },
  {
   "cell_type": "markdown",
   "metadata": {},
   "source": [
    "Essa é a representação mais comum de grafos dirigidos: círculos como nós e setas como arestas. Se uma seta *sai* do círculo que representa $n$ e *entra* no círculo que representa $m$, ela representa a aresta $(n, m)$.\n",
    "\n",
    "Note que as duas primeiras linhas não são necessárias se você rodou a célula anterior, pois os valores atribuídos a `graph_width` e `graph_height` são exatamente iguais.\n",
    "\n",
    "\n",
    "## Atributos de nós e arestas\n",
    "\n",
    "Na estrutura de dados usada pela `socnet`, os nós são *inteiros* e cada nó é asssociado a um *dicionário* que armazena seus atributos. Vamos modificar e imprimir o atributo `color` do nó $0$ do grafo `ug`. Esse atributo existe por padrão."
   ]
  },
  {
   "cell_type": "code",
   "execution_count": 6,
   "metadata": {},
   "outputs": [
    {
     "name": "stdout",
     "output_type": "stream",
     "text": [
      "(255, 0, 0)\n"
     ]
    }
   ],
   "source": [
    "ug.nodes[0]['color'] = (255, 0, 0)\n",
    "\n",
    "print(ug.nodes[0]['color'])"
   ]
  },
  {
   "cell_type": "markdown",
   "metadata": {},
   "source": [
    "Cada aresta também é asssociada a um dicionário que armazena seus atributos. Vamos modificar e imprimir o atributo `color` da aresta $\\{1, 2\\}$ do grafo `ug`. Esse atributo existe por padrão."
   ]
  },
  {
   "cell_type": "code",
   "execution_count": 7,
   "metadata": {},
   "outputs": [
    {
     "name": "stdout",
     "output_type": "stream",
     "text": [
      "(0, 255, 0)\n"
     ]
    }
   ],
   "source": [
    "ug.edges[1, 2]['color'] = (0, 255, 0)\n",
    "\n",
    "print(ug.edges[1, 2]['color'])"
   ]
  },
  {
   "cell_type": "markdown",
   "metadata": {},
   "source": [
    "Note que a ordem dos nós não importa, pois `ug` é um grafo não-dirigido."
   ]
  },
  {
   "cell_type": "code",
   "execution_count": 8,
   "metadata": {},
   "outputs": [
    {
     "name": "stdout",
     "output_type": "stream",
     "text": [
      "(0, 0, 255)\n"
     ]
    }
   ],
   "source": [
    "ug.edges[2, 1]['color'] = (0, 0, 255)\n",
    "\n",
    "print(ug.edges[1, 2]['color'])"
   ]
  },
  {
   "cell_type": "markdown",
   "metadata": {},
   "source": [
    "Os atributos `color` são exibidos na visualização."
   ]
  },
  {
   "cell_type": "code",
   "execution_count": 9,
   "metadata": {},
   "outputs": [
    {
     "data": {
      "application/vnd.plotly.v1+json": {
       "data": [
        {
         "hoverinfo": "none",
         "line": {
          "color": "rgb(0, 0, 0)",
          "width": 2
         },
         "mode": "lines",
         "type": "scatter",
         "uid": "a1618e12-a23e-11e8-8842-5cc9d35576a8",
         "x": [
          0,
          0.25,
          null,
          0,
          0.25,
          null,
          0.25,
          0.25,
          null,
          0.5,
          0.75,
          null,
          0.5,
          0.75,
          null,
          0.5,
          0.375,
          null,
          0.75,
          1,
          null,
          0.75,
          0.75,
          null,
          1,
          0.75,
          null,
          0.75,
          0.5,
          null,
          0.5,
          0.25,
          null,
          0.5,
          0.375,
          null,
          0.25,
          0.375,
          null
         ],
         "y": [
          0.5,
          1,
          null,
          0.5,
          0,
          null,
          1,
          0,
          null,
          1,
          1,
          null,
          1,
          0,
          null,
          1,
          0.5,
          null,
          1,
          0.5,
          null,
          1,
          0,
          null,
          0.5,
          0,
          null,
          0,
          0,
          null,
          0,
          0,
          null,
          0,
          0.5,
          null,
          0,
          0.5,
          null
         ]
        },
        {
         "hoverinfo": "none",
         "line": {
          "color": "rgb(0, 0, 255)",
          "width": 2
         },
         "mode": "lines",
         "type": "scatter",
         "uid": "a1618e13-a23e-11e8-8842-5cc9d35576a8",
         "x": [
          0.25,
          0.5,
          null
         ],
         "y": [
          1,
          1,
          null
         ]
        },
        {
         "hoverinfo": "none",
         "marker": {
          "color": "rgb(255, 0, 0)",
          "line": {
           "color": "rgb(0, 0, 0)",
           "width": 2
          },
          "size": 20
         },
         "mode": "markers+text",
         "text": [],
         "textfont": {
          "color": "rgb(255, 255, 255)"
         },
         "textposition": "middle center",
         "type": "scatter",
         "uid": "a1618e14-a23e-11e8-8842-5cc9d35576a8",
         "x": [
          0
         ],
         "y": [
          0.5
         ]
        },
        {
         "hoverinfo": "none",
         "marker": {
          "color": "rgb(255, 255, 255)",
          "line": {
           "color": "rgb(0, 0, 0)",
           "width": 2
          },
          "size": 20
         },
         "mode": "markers+text",
         "text": [],
         "textfont": {
          "color": "rgb(0, 0, 0)"
         },
         "textposition": "middle center",
         "type": "scatter",
         "uid": "a1618e15-a23e-11e8-8842-5cc9d35576a8",
         "x": [
          0.25,
          0.5,
          0.75,
          1,
          0.75,
          0.5,
          0.25,
          0.375
         ],
         "y": [
          1,
          1,
          1,
          0.5,
          0,
          0,
          0,
          0.5
         ]
        }
       ],
       "layout": {
        "height": 180,
        "margin": {
         "b": 0,
         "l": 0,
         "r": 0,
         "t": 0
        },
        "showlegend": false,
        "width": 320,
        "xaxis": {
         "showgrid": false,
         "showticklabels": false,
         "zeroline": false
        },
        "yaxis": {
         "showgrid": false,
         "showticklabels": false,
         "zeroline": false
        }
       }
      },
      "text/html": [
       "<div id=\"9a7a89d9-6617-49f7-84df-f3480532f687\" style=\"height: 180px; width: 320px;\" class=\"plotly-graph-div\"></div><script type=\"text/javascript\">require([\"plotly\"], function(Plotly) { window.PLOTLYENV=window.PLOTLYENV || {};window.PLOTLYENV.BASE_URL=\"https://plot.ly\";Plotly.newPlot(\"9a7a89d9-6617-49f7-84df-f3480532f687\", [{\"hoverinfo\": \"none\", \"line\": {\"color\": \"rgb(0, 0, 0)\", \"width\": 2}, \"mode\": \"lines\", \"x\": [0.0, 0.25, null, 0.0, 0.25, null, 0.25, 0.25, null, 0.5, 0.75, null, 0.5, 0.75, null, 0.5, 0.375, null, 0.75, 1.0, null, 0.75, 0.75, null, 1.0, 0.75, null, 0.75, 0.5, null, 0.5, 0.25, null, 0.5, 0.375, null, 0.25, 0.375, null], \"y\": [0.5, 1.0, null, 0.5, 0.0, null, 1.0, 0.0, null, 1.0, 1.0, null, 1.0, 0.0, null, 1.0, 0.5, null, 1.0, 0.5, null, 1.0, 0.0, null, 0.5, 0.0, null, 0.0, 0.0, null, 0.0, 0.0, null, 0.0, 0.5, null, 0.0, 0.5, null], \"type\": \"scatter\", \"uid\": \"a1618e16-a23e-11e8-8842-5cc9d35576a8\"}, {\"hoverinfo\": \"none\", \"line\": {\"color\": \"rgb(0, 0, 255)\", \"width\": 2}, \"mode\": \"lines\", \"x\": [0.25, 0.5, null], \"y\": [1.0, 1.0, null], \"type\": \"scatter\", \"uid\": \"a1618e17-a23e-11e8-8842-5cc9d35576a8\"}, {\"hoverinfo\": \"none\", \"marker\": {\"color\": \"rgb(255, 0, 0)\", \"line\": {\"color\": \"rgb(0, 0, 0)\", \"width\": 2}, \"size\": 20}, \"mode\": \"markers+text\", \"text\": [], \"textfont\": {\"color\": \"rgb(255, 255, 255)\"}, \"textposition\": \"middle center\", \"x\": [0.0], \"y\": [0.5], \"type\": \"scatter\", \"uid\": \"a1618e18-a23e-11e8-8842-5cc9d35576a8\"}, {\"hoverinfo\": \"none\", \"marker\": {\"color\": \"rgb(255, 255, 255)\", \"line\": {\"color\": \"rgb(0, 0, 0)\", \"width\": 2}, \"size\": 20}, \"mode\": \"markers+text\", \"text\": [], \"textfont\": {\"color\": \"rgb(0, 0, 0)\"}, \"textposition\": \"middle center\", \"x\": [0.25, 0.5, 0.75, 1.0, 0.75, 0.5, 0.25, 0.375], \"y\": [1.0, 1.0, 1.0, 0.5, 0.0, 0.0, 0.0, 0.5], \"type\": \"scatter\", \"uid\": \"a1618e19-a23e-11e8-8842-5cc9d35576a8\"}], {\"height\": 180, \"margin\": {\"b\": 0, \"l\": 0, \"r\": 0, \"t\": 0}, \"showlegend\": false, \"width\": 320, \"xaxis\": {\"showgrid\": false, \"showticklabels\": false, \"zeroline\": false}, \"yaxis\": {\"showgrid\": false, \"showticklabels\": false, \"zeroline\": false}}, {\"showLink\": false, \"linkText\": \"Export to plot.ly\", \"displayModeBar\": false})});</script>"
      ],
      "text/vnd.plotly.v1+html": [
       "<div id=\"9a7a89d9-6617-49f7-84df-f3480532f687\" style=\"height: 180px; width: 320px;\" class=\"plotly-graph-div\"></div><script type=\"text/javascript\">require([\"plotly\"], function(Plotly) { window.PLOTLYENV=window.PLOTLYENV || {};window.PLOTLYENV.BASE_URL=\"https://plot.ly\";Plotly.newPlot(\"9a7a89d9-6617-49f7-84df-f3480532f687\", [{\"hoverinfo\": \"none\", \"line\": {\"color\": \"rgb(0, 0, 0)\", \"width\": 2}, \"mode\": \"lines\", \"x\": [0.0, 0.25, null, 0.0, 0.25, null, 0.25, 0.25, null, 0.5, 0.75, null, 0.5, 0.75, null, 0.5, 0.375, null, 0.75, 1.0, null, 0.75, 0.75, null, 1.0, 0.75, null, 0.75, 0.5, null, 0.5, 0.25, null, 0.5, 0.375, null, 0.25, 0.375, null], \"y\": [0.5, 1.0, null, 0.5, 0.0, null, 1.0, 0.0, null, 1.0, 1.0, null, 1.0, 0.0, null, 1.0, 0.5, null, 1.0, 0.5, null, 1.0, 0.0, null, 0.5, 0.0, null, 0.0, 0.0, null, 0.0, 0.0, null, 0.0, 0.5, null, 0.0, 0.5, null], \"type\": \"scatter\", \"uid\": \"a1618e16-a23e-11e8-8842-5cc9d35576a8\"}, {\"hoverinfo\": \"none\", \"line\": {\"color\": \"rgb(0, 0, 255)\", \"width\": 2}, \"mode\": \"lines\", \"x\": [0.25, 0.5, null], \"y\": [1.0, 1.0, null], \"type\": \"scatter\", \"uid\": \"a1618e17-a23e-11e8-8842-5cc9d35576a8\"}, {\"hoverinfo\": \"none\", \"marker\": {\"color\": \"rgb(255, 0, 0)\", \"line\": {\"color\": \"rgb(0, 0, 0)\", \"width\": 2}, \"size\": 20}, \"mode\": \"markers+text\", \"text\": [], \"textfont\": {\"color\": \"rgb(255, 255, 255)\"}, \"textposition\": \"middle center\", \"x\": [0.0], \"y\": [0.5], \"type\": \"scatter\", \"uid\": \"a1618e18-a23e-11e8-8842-5cc9d35576a8\"}, {\"hoverinfo\": \"none\", \"marker\": {\"color\": \"rgb(255, 255, 255)\", \"line\": {\"color\": \"rgb(0, 0, 0)\", \"width\": 2}, \"size\": 20}, \"mode\": \"markers+text\", \"text\": [], \"textfont\": {\"color\": \"rgb(0, 0, 0)\"}, \"textposition\": \"middle center\", \"x\": [0.25, 0.5, 0.75, 1.0, 0.75, 0.5, 0.25, 0.375], \"y\": [1.0, 1.0, 1.0, 0.5, 0.0, 0.0, 0.0, 0.5], \"type\": \"scatter\", \"uid\": \"a1618e19-a23e-11e8-8842-5cc9d35576a8\"}], {\"height\": 180, \"margin\": {\"b\": 0, \"l\": 0, \"r\": 0, \"t\": 0}, \"showlegend\": false, \"width\": 320, \"xaxis\": {\"showgrid\": false, \"showticklabels\": false, \"zeroline\": false}, \"yaxis\": {\"showgrid\": false, \"showticklabels\": false, \"zeroline\": false}}, {\"showLink\": false, \"linkText\": \"Export to plot.ly\", \"displayModeBar\": false})});</script>"
      ]
     },
     "metadata": {},
     "output_type": "display_data"
    }
   ],
   "source": [
    "sn.show_graph(ug)"
   ]
  },
  {
   "cell_type": "markdown",
   "metadata": {},
   "source": [
    "Podemos usar funções de conveniência para reinicializar as cores."
   ]
  },
  {
   "cell_type": "code",
   "execution_count": 10,
   "metadata": {},
   "outputs": [
    {
     "data": {
      "application/vnd.plotly.v1+json": {
       "data": [
        {
         "hoverinfo": "none",
         "line": {
          "color": "rgb(0, 0, 0)",
          "width": 2
         },
         "mode": "lines",
         "type": "scatter",
         "uid": "a75544c6-a23e-11e8-8842-5cc9d35576a8",
         "x": [
          0,
          0.25,
          null,
          0,
          0.25,
          null,
          0.25,
          0.5,
          null,
          0.25,
          0.25,
          null,
          0.5,
          0.75,
          null,
          0.5,
          0.75,
          null,
          0.5,
          0.375,
          null,
          0.75,
          1,
          null,
          0.75,
          0.75,
          null,
          1,
          0.75,
          null,
          0.75,
          0.5,
          null,
          0.5,
          0.25,
          null,
          0.5,
          0.375,
          null,
          0.25,
          0.375,
          null
         ],
         "y": [
          0.5,
          1,
          null,
          0.5,
          0,
          null,
          1,
          1,
          null,
          1,
          0,
          null,
          1,
          1,
          null,
          1,
          0,
          null,
          1,
          0.5,
          null,
          1,
          0.5,
          null,
          1,
          0,
          null,
          0.5,
          0,
          null,
          0,
          0,
          null,
          0,
          0,
          null,
          0,
          0.5,
          null,
          0,
          0.5,
          null
         ]
        },
        {
         "hoverinfo": "none",
         "marker": {
          "color": "rgb(255, 255, 255)",
          "line": {
           "color": "rgb(0, 0, 0)",
           "width": 2
          },
          "size": 20
         },
         "mode": "markers+text",
         "text": [],
         "textfont": {
          "color": "rgb(0, 0, 0)"
         },
         "textposition": "middle center",
         "type": "scatter",
         "uid": "a75544c7-a23e-11e8-8842-5cc9d35576a8",
         "x": [
          0,
          0.25,
          0.5,
          0.75,
          1,
          0.75,
          0.5,
          0.25,
          0.375
         ],
         "y": [
          0.5,
          1,
          1,
          1,
          0.5,
          0,
          0,
          0,
          0.5
         ]
        }
       ],
       "layout": {
        "height": 180,
        "margin": {
         "b": 0,
         "l": 0,
         "r": 0,
         "t": 0
        },
        "showlegend": false,
        "width": 320,
        "xaxis": {
         "showgrid": false,
         "showticklabels": false,
         "zeroline": false
        },
        "yaxis": {
         "showgrid": false,
         "showticklabels": false,
         "zeroline": false
        }
       }
      },
      "text/html": [
       "<div id=\"99eee1ef-8c8e-4830-b54a-9c7e16c2109e\" style=\"height: 180px; width: 320px;\" class=\"plotly-graph-div\"></div><script type=\"text/javascript\">require([\"plotly\"], function(Plotly) { window.PLOTLYENV=window.PLOTLYENV || {};window.PLOTLYENV.BASE_URL=\"https://plot.ly\";Plotly.newPlot(\"99eee1ef-8c8e-4830-b54a-9c7e16c2109e\", [{\"hoverinfo\": \"none\", \"line\": {\"color\": \"rgb(0, 0, 0)\", \"width\": 2}, \"mode\": \"lines\", \"x\": [0.0, 0.25, null, 0.0, 0.25, null, 0.25, 0.5, null, 0.25, 0.25, null, 0.5, 0.75, null, 0.5, 0.75, null, 0.5, 0.375, null, 0.75, 1.0, null, 0.75, 0.75, null, 1.0, 0.75, null, 0.75, 0.5, null, 0.5, 0.25, null, 0.5, 0.375, null, 0.25, 0.375, null], \"y\": [0.5, 1.0, null, 0.5, 0.0, null, 1.0, 1.0, null, 1.0, 0.0, null, 1.0, 1.0, null, 1.0, 0.0, null, 1.0, 0.5, null, 1.0, 0.5, null, 1.0, 0.0, null, 0.5, 0.0, null, 0.0, 0.0, null, 0.0, 0.0, null, 0.0, 0.5, null, 0.0, 0.5, null], \"type\": \"scatter\", \"uid\": \"a75544c8-a23e-11e8-8842-5cc9d35576a8\"}, {\"hoverinfo\": \"none\", \"marker\": {\"color\": \"rgb(255, 255, 255)\", \"line\": {\"color\": \"rgb(0, 0, 0)\", \"width\": 2}, \"size\": 20}, \"mode\": \"markers+text\", \"text\": [], \"textfont\": {\"color\": \"rgb(0, 0, 0)\"}, \"textposition\": \"middle center\", \"x\": [0.0, 0.25, 0.5, 0.75, 1.0, 0.75, 0.5, 0.25, 0.375], \"y\": [0.5, 1.0, 1.0, 1.0, 0.5, 0.0, 0.0, 0.0, 0.5], \"type\": \"scatter\", \"uid\": \"a75544c9-a23e-11e8-8842-5cc9d35576a8\"}], {\"height\": 180, \"margin\": {\"b\": 0, \"l\": 0, \"r\": 0, \"t\": 0}, \"showlegend\": false, \"width\": 320, \"xaxis\": {\"showgrid\": false, \"showticklabels\": false, \"zeroline\": false}, \"yaxis\": {\"showgrid\": false, \"showticklabels\": false, \"zeroline\": false}}, {\"showLink\": false, \"linkText\": \"Export to plot.ly\", \"displayModeBar\": false})});</script>"
      ],
      "text/vnd.plotly.v1+html": [
       "<div id=\"99eee1ef-8c8e-4830-b54a-9c7e16c2109e\" style=\"height: 180px; width: 320px;\" class=\"plotly-graph-div\"></div><script type=\"text/javascript\">require([\"plotly\"], function(Plotly) { window.PLOTLYENV=window.PLOTLYENV || {};window.PLOTLYENV.BASE_URL=\"https://plot.ly\";Plotly.newPlot(\"99eee1ef-8c8e-4830-b54a-9c7e16c2109e\", [{\"hoverinfo\": \"none\", \"line\": {\"color\": \"rgb(0, 0, 0)\", \"width\": 2}, \"mode\": \"lines\", \"x\": [0.0, 0.25, null, 0.0, 0.25, null, 0.25, 0.5, null, 0.25, 0.25, null, 0.5, 0.75, null, 0.5, 0.75, null, 0.5, 0.375, null, 0.75, 1.0, null, 0.75, 0.75, null, 1.0, 0.75, null, 0.75, 0.5, null, 0.5, 0.25, null, 0.5, 0.375, null, 0.25, 0.375, null], \"y\": [0.5, 1.0, null, 0.5, 0.0, null, 1.0, 1.0, null, 1.0, 0.0, null, 1.0, 1.0, null, 1.0, 0.0, null, 1.0, 0.5, null, 1.0, 0.5, null, 1.0, 0.0, null, 0.5, 0.0, null, 0.0, 0.0, null, 0.0, 0.0, null, 0.0, 0.5, null, 0.0, 0.5, null], \"type\": \"scatter\", \"uid\": \"a75544c8-a23e-11e8-8842-5cc9d35576a8\"}, {\"hoverinfo\": \"none\", \"marker\": {\"color\": \"rgb(255, 255, 255)\", \"line\": {\"color\": \"rgb(0, 0, 0)\", \"width\": 2}, \"size\": 20}, \"mode\": \"markers+text\", \"text\": [], \"textfont\": {\"color\": \"rgb(0, 0, 0)\"}, \"textposition\": \"middle center\", \"x\": [0.0, 0.25, 0.5, 0.75, 1.0, 0.75, 0.5, 0.25, 0.375], \"y\": [0.5, 1.0, 1.0, 1.0, 0.5, 0.0, 0.0, 0.0, 0.5], \"type\": \"scatter\", \"uid\": \"a75544c9-a23e-11e8-8842-5cc9d35576a8\"}], {\"height\": 180, \"margin\": {\"b\": 0, \"l\": 0, \"r\": 0, \"t\": 0}, \"showlegend\": false, \"width\": 320, \"xaxis\": {\"showgrid\": false, \"showticklabels\": false, \"zeroline\": false}, \"yaxis\": {\"showgrid\": false, \"showticklabels\": false, \"zeroline\": false}}, {\"showLink\": false, \"linkText\": \"Export to plot.ly\", \"displayModeBar\": false})});</script>"
      ]
     },
     "metadata": {},
     "output_type": "display_data"
    }
   ],
   "source": [
    "sn.reset_node_colors(ug)\n",
    "sn.reset_edge_colors(ug)\n",
    "\n",
    "sn.show_graph(ug)"
   ]
  },
  {
   "cell_type": "markdown",
   "metadata": {},
   "source": [
    "Os atributos `label` também podem ser exibidos na visualização, mas não existem por padrão. Primeiramente, precisamos criá-los."
   ]
  },
  {
   "cell_type": "code",
   "execution_count": 11,
   "metadata": {},
   "outputs": [],
   "source": [
    "for n in ug.nodes:\n",
    "    ug.nodes[n]['label'] = str(n)\n",
    "for n, m in ug.edges:\n",
    "    ug.edges[n, m]['label'] = '?'\n",
    "\n",
    "for n in dg.nodes:\n",
    "    dg.nodes[n]['label'] = str(n)\n",
    "for n, m in dg.edges:\n",
    "    dg.edges[n, m]['label'] = '?'"
   ]
  },
  {
   "cell_type": "markdown",
   "metadata": {},
   "source": [
    "Depois, precisamos usar os argumentos `nlab` e `elab` para indicar que queremos exibi-los. Esses argumentos são `False` por padrão. "
   ]
  },
  {
   "cell_type": "code",
   "execution_count": 12,
   "metadata": {},
   "outputs": [
    {
     "data": {
      "application/vnd.plotly.v1+json": {
       "data": [
        {
         "hoverinfo": "none",
         "line": {
          "color": "rgb(0, 0, 0)",
          "width": 2
         },
         "mode": "lines",
         "type": "scatter",
         "uid": "b180ab02-a23e-11e8-8842-5cc9d35576a8",
         "x": [
          0,
          0.25,
          null,
          0,
          0.25,
          null,
          0.25,
          0.5,
          null,
          0.25,
          0.25,
          null,
          0.5,
          0.75,
          null,
          0.5,
          0.75,
          null,
          0.5,
          0.375,
          null,
          0.75,
          1,
          null,
          0.75,
          0.75,
          null,
          1,
          0.75,
          null,
          0.75,
          0.5,
          null,
          0.5,
          0.25,
          null,
          0.5,
          0.375,
          null,
          0.25,
          0.375,
          null
         ],
         "y": [
          0.5,
          1,
          null,
          0.5,
          0,
          null,
          1,
          1,
          null,
          1,
          0,
          null,
          1,
          1,
          null,
          1,
          0,
          null,
          1,
          0.5,
          null,
          1,
          0.5,
          null,
          1,
          0,
          null,
          0.5,
          0,
          null,
          0,
          0,
          null,
          0,
          0,
          null,
          0,
          0.5,
          null,
          0,
          0.5,
          null
         ]
        },
        {
         "hoverinfo": "none",
         "marker": {
          "color": "rgb(255, 255, 255)",
          "line": {
           "color": "rgb(0, 0, 0)",
           "width": 2
          },
          "size": 20
         },
         "mode": "markers+text",
         "text": [
          "0",
          "1",
          "2",
          "3",
          "4",
          "5",
          "6",
          "7",
          "8"
         ],
         "textfont": {
          "color": "rgb(0, 0, 0)"
         },
         "textposition": "middle center",
         "type": "scatter",
         "uid": "b180ab03-a23e-11e8-8842-5cc9d35576a8",
         "x": [
          0,
          0.25,
          0.5,
          0.75,
          1,
          0.75,
          0.5,
          0.25,
          0.375
         ],
         "y": [
          0.5,
          1,
          1,
          1,
          0.5,
          0,
          0,
          0,
          0.5
         ]
        },
        {
         "hoverinfo": "none",
         "mode": "text",
         "text": [
          "?",
          "?",
          "?",
          "?",
          "?",
          "?",
          "?",
          "?",
          "?",
          "?",
          "?",
          "?",
          "?",
          "?"
         ],
         "textfont": {
          "color": "rgb(0, 0, 0)"
         },
         "textposition": "middle center",
         "type": "scatter",
         "uid": "b180ab04-a23e-11e8-8842-5cc9d35576a8",
         "x": [
          0.08835225700681207,
          0.16164774299318793,
          0.375,
          0.2878787878787879,
          0.625,
          0.6625594305323629,
          0.4750594305323629,
          0.911647742993188,
          0.7878787878787878,
          0.911647742993188,
          0.625,
          0.375,
          0.3999405694676371,
          0.2749405694676371
         ],
         "y": [
          0.768323871496594,
          0.268323871496594,
          1.0724637681159421,
          0.5,
          1.0724637681159421,
          0.5093898576330907,
          0.7406101423669093,
          0.768323871496594,
          0.5,
          0.23167612850340602,
          -0.07246376811594203,
          -0.07246376811594203,
          0.24061014236690928,
          0.2593898576330907
         ]
        }
       ],
       "layout": {
        "height": 180,
        "margin": {
         "b": 0,
         "l": 0,
         "r": 0,
         "t": 0
        },
        "showlegend": false,
        "width": 320,
        "xaxis": {
         "showgrid": false,
         "showticklabels": false,
         "zeroline": false
        },
        "yaxis": {
         "showgrid": false,
         "showticklabels": false,
         "zeroline": false
        }
       }
      },
      "text/html": [
       "<div id=\"13d2202c-94db-4c2d-9f51-fccf83e36b32\" style=\"height: 180px; width: 320px;\" class=\"plotly-graph-div\"></div><script type=\"text/javascript\">require([\"plotly\"], function(Plotly) { window.PLOTLYENV=window.PLOTLYENV || {};window.PLOTLYENV.BASE_URL=\"https://plot.ly\";Plotly.newPlot(\"13d2202c-94db-4c2d-9f51-fccf83e36b32\", [{\"hoverinfo\": \"none\", \"line\": {\"color\": \"rgb(0, 0, 0)\", \"width\": 2}, \"mode\": \"lines\", \"x\": [0.0, 0.25, null, 0.0, 0.25, null, 0.25, 0.5, null, 0.25, 0.25, null, 0.5, 0.75, null, 0.5, 0.75, null, 0.5, 0.375, null, 0.75, 1.0, null, 0.75, 0.75, null, 1.0, 0.75, null, 0.75, 0.5, null, 0.5, 0.25, null, 0.5, 0.375, null, 0.25, 0.375, null], \"y\": [0.5, 1.0, null, 0.5, 0.0, null, 1.0, 1.0, null, 1.0, 0.0, null, 1.0, 1.0, null, 1.0, 0.0, null, 1.0, 0.5, null, 1.0, 0.5, null, 1.0, 0.0, null, 0.5, 0.0, null, 0.0, 0.0, null, 0.0, 0.0, null, 0.0, 0.5, null, 0.0, 0.5, null], \"type\": \"scatter\", \"uid\": \"b180ab05-a23e-11e8-8842-5cc9d35576a8\"}, {\"hoverinfo\": \"none\", \"marker\": {\"color\": \"rgb(255, 255, 255)\", \"line\": {\"color\": \"rgb(0, 0, 0)\", \"width\": 2}, \"size\": 20}, \"mode\": \"markers+text\", \"text\": [\"0\", \"1\", \"2\", \"3\", \"4\", \"5\", \"6\", \"7\", \"8\"], \"textfont\": {\"color\": \"rgb(0, 0, 0)\"}, \"textposition\": \"middle center\", \"x\": [0.0, 0.25, 0.5, 0.75, 1.0, 0.75, 0.5, 0.25, 0.375], \"y\": [0.5, 1.0, 1.0, 1.0, 0.5, 0.0, 0.0, 0.0, 0.5], \"type\": \"scatter\", \"uid\": \"b180ab06-a23e-11e8-8842-5cc9d35576a8\"}, {\"hoverinfo\": \"none\", \"mode\": \"text\", \"text\": [\"?\", \"?\", \"?\", \"?\", \"?\", \"?\", \"?\", \"?\", \"?\", \"?\", \"?\", \"?\", \"?\", \"?\"], \"textfont\": {\"color\": \"rgb(0, 0, 0)\"}, \"textposition\": \"middle center\", \"x\": [0.08835225700681207, 0.16164774299318793, 0.375, 0.2878787878787879, 0.625, 0.6625594305323629, 0.4750594305323629, 0.911647742993188, 0.7878787878787878, 0.911647742993188, 0.625, 0.375, 0.3999405694676371, 0.2749405694676371], \"y\": [0.768323871496594, 0.268323871496594, 1.0724637681159421, 0.5, 1.0724637681159421, 0.5093898576330907, 0.7406101423669093, 0.768323871496594, 0.5, 0.23167612850340602, -0.07246376811594203, -0.07246376811594203, 0.24061014236690928, 0.2593898576330907], \"type\": \"scatter\", \"uid\": \"b180ab07-a23e-11e8-8842-5cc9d35576a8\"}], {\"height\": 180, \"margin\": {\"b\": 0, \"l\": 0, \"r\": 0, \"t\": 0}, \"showlegend\": false, \"width\": 320, \"xaxis\": {\"showgrid\": false, \"showticklabels\": false, \"zeroline\": false}, \"yaxis\": {\"showgrid\": false, \"showticklabels\": false, \"zeroline\": false}}, {\"showLink\": false, \"linkText\": \"Export to plot.ly\", \"displayModeBar\": false})});</script>"
      ],
      "text/vnd.plotly.v1+html": [
       "<div id=\"13d2202c-94db-4c2d-9f51-fccf83e36b32\" style=\"height: 180px; width: 320px;\" class=\"plotly-graph-div\"></div><script type=\"text/javascript\">require([\"plotly\"], function(Plotly) { window.PLOTLYENV=window.PLOTLYENV || {};window.PLOTLYENV.BASE_URL=\"https://plot.ly\";Plotly.newPlot(\"13d2202c-94db-4c2d-9f51-fccf83e36b32\", [{\"hoverinfo\": \"none\", \"line\": {\"color\": \"rgb(0, 0, 0)\", \"width\": 2}, \"mode\": \"lines\", \"x\": [0.0, 0.25, null, 0.0, 0.25, null, 0.25, 0.5, null, 0.25, 0.25, null, 0.5, 0.75, null, 0.5, 0.75, null, 0.5, 0.375, null, 0.75, 1.0, null, 0.75, 0.75, null, 1.0, 0.75, null, 0.75, 0.5, null, 0.5, 0.25, null, 0.5, 0.375, null, 0.25, 0.375, null], \"y\": [0.5, 1.0, null, 0.5, 0.0, null, 1.0, 1.0, null, 1.0, 0.0, null, 1.0, 1.0, null, 1.0, 0.0, null, 1.0, 0.5, null, 1.0, 0.5, null, 1.0, 0.0, null, 0.5, 0.0, null, 0.0, 0.0, null, 0.0, 0.0, null, 0.0, 0.5, null, 0.0, 0.5, null], \"type\": \"scatter\", \"uid\": \"b180ab05-a23e-11e8-8842-5cc9d35576a8\"}, {\"hoverinfo\": \"none\", \"marker\": {\"color\": \"rgb(255, 255, 255)\", \"line\": {\"color\": \"rgb(0, 0, 0)\", \"width\": 2}, \"size\": 20}, \"mode\": \"markers+text\", \"text\": [\"0\", \"1\", \"2\", \"3\", \"4\", \"5\", \"6\", \"7\", \"8\"], \"textfont\": {\"color\": \"rgb(0, 0, 0)\"}, \"textposition\": \"middle center\", \"x\": [0.0, 0.25, 0.5, 0.75, 1.0, 0.75, 0.5, 0.25, 0.375], \"y\": [0.5, 1.0, 1.0, 1.0, 0.5, 0.0, 0.0, 0.0, 0.5], \"type\": \"scatter\", \"uid\": \"b180ab06-a23e-11e8-8842-5cc9d35576a8\"}, {\"hoverinfo\": \"none\", \"mode\": \"text\", \"text\": [\"?\", \"?\", \"?\", \"?\", \"?\", \"?\", \"?\", \"?\", \"?\", \"?\", \"?\", \"?\", \"?\", \"?\"], \"textfont\": {\"color\": \"rgb(0, 0, 0)\"}, \"textposition\": \"middle center\", \"x\": [0.08835225700681207, 0.16164774299318793, 0.375, 0.2878787878787879, 0.625, 0.6625594305323629, 0.4750594305323629, 0.911647742993188, 0.7878787878787878, 0.911647742993188, 0.625, 0.375, 0.3999405694676371, 0.2749405694676371], \"y\": [0.768323871496594, 0.268323871496594, 1.0724637681159421, 0.5, 1.0724637681159421, 0.5093898576330907, 0.7406101423669093, 0.768323871496594, 0.5, 0.23167612850340602, -0.07246376811594203, -0.07246376811594203, 0.24061014236690928, 0.2593898576330907], \"type\": \"scatter\", \"uid\": \"b180ab07-a23e-11e8-8842-5cc9d35576a8\"}], {\"height\": 180, \"margin\": {\"b\": 0, \"l\": 0, \"r\": 0, \"t\": 0}, \"showlegend\": false, \"width\": 320, \"xaxis\": {\"showgrid\": false, \"showticklabels\": false, \"zeroline\": false}, \"yaxis\": {\"showgrid\": false, \"showticklabels\": false, \"zeroline\": false}}, {\"showLink\": false, \"linkText\": \"Export to plot.ly\", \"displayModeBar\": false})});</script>"
      ]
     },
     "metadata": {},
     "output_type": "display_data"
    },
    {
     "data": {
      "application/vnd.plotly.v1+json": {
       "data": [
        {
         "hoverinfo": "none",
         "line": {
          "color": "rgb(0, 0, 0)",
          "width": 2
         },
         "mode": "lines",
         "type": "scatter",
         "uid": "b180ab08-a23e-11e8-8842-5cc9d35576a8",
         "x": [
          0,
          0.5,
          null,
          0.46643085439538495,
          0.44538388103556675,
          null,
          0.46643085439538495,
          0.4285584341548651,
          null,
          0,
          0.5,
          null,
          0.46643085439538495,
          0.4285584341548651,
          null,
          0.46643085439538495,
          0.44538388103556675,
          null,
          0.5,
          1,
          null,
          0.9621212121212122,
          0.9288794484132434,
          null,
          0.9621212121212122,
          0.9288794484132434,
          null,
          0.5075757575757576,
          0.5075757575757576,
          null,
          0.5075757575757576,
          0.5257358158562198,
          null,
          1.0075757575757576,
          1.0075757575757576,
          null,
          1.0075757575757576,
          1.0257358158562198,
          null,
          0.49242424242424243,
          0.49242424242424243,
          null,
          0.49242424242424243,
          0.4742641841437802,
          null,
          0.5,
          1,
          null,
          0.9738173240163878,
          0.9639630823912474,
          null,
          0.9738173240163878,
          0.9377166459078401,
          null,
          0.5,
          1,
          null,
          0.9621212121212122,
          0.9288794484132434,
          null,
          0.9621212121212122,
          0.9288794484132434,
          null,
          1,
          0,
          null,
          0.03664774299318793,
          0.07340128670201525,
          null,
          0.03664774299318793,
          0.06421703965128427,
          null,
          0.9924242424242424,
          0.9924242424242424,
          null,
          0.9924242424242424,
          0.9742641841437802,
          null
         ],
         "y": [
          0.5,
          1,
          null,
          0.966430854395385,
          0.906182816233176,
          null,
          0.966430854395385,
          0.967759498957256,
          null,
          0.5,
          0,
          null,
          0.03356914560461503,
          0.032240501042743994,
          null,
          0.03356914560461503,
          0.09381718376682407,
          null,
          1,
          1,
          null,
          1,
          0.9652590189417244,
          null,
          1,
          1.0347409810582755,
          null,
          1,
          0,
          null,
          0.07246376811594203,
          0.13605670738336034,
          null,
          1,
          0,
          null,
          0.07246376811594203,
          0.13605670738336034,
          null,
          0,
          1,
          null,
          0.927536231884058,
          0.8639432926166397,
          null,
          0,
          1,
          null,
          0.9476346480327754,
          0.8776659754484841,
          null,
          0.9476346480327754,
          0.9256934811496907,
          null,
          0,
          0,
          null,
          0,
          -0.03474098105827558,
          null,
          0,
          0.03474098105827558,
          null,
          0,
          0.5,
          null,
          0.481676128503406,
          0.4992073320037643,
          null,
          0.481676128503406,
          0.4319835048195859,
          null,
          0,
          1,
          null,
          0.927536231884058,
          0.8639432926166397,
          null
         ]
        },
        {
         "hoverinfo": "none",
         "marker": {
          "color": "rgb(255, 255, 255)",
          "line": {
           "color": "rgb(0, 0, 0)",
           "width": 2
          },
          "size": 20
         },
         "mode": "markers+text",
         "text": [
          "0",
          "1",
          "2",
          "3",
          "4"
         ],
         "textfont": {
          "color": "rgb(0, 0, 0)"
         },
         "textposition": "middle center",
         "type": "scatter",
         "uid": "b180ab09-a23e-11e8-8842-5cc9d35576a8",
         "x": [
          0,
          0.5,
          1,
          0.5,
          1
         ],
         "y": [
          0.5,
          1,
          1,
          0,
          0
         ]
        },
        {
         "hoverinfo": "none",
         "mode": "text",
         "text": [
          "?",
          "?",
          "?",
          "?",
          "?",
          "?",
          "?",
          "?",
          "?",
          "?"
         ],
         "textfont": {
          "color": "rgb(0, 0, 0)"
         },
         "textposition": "middle center",
         "type": "scatter",
         "uid": "b180ab0a-a23e-11e8-8842-5cc9d35576a8",
         "x": [
          0.21643085439538495,
          0.28356914560461505,
          0.75,
          0.5454545454545454,
          1.0454545454545454,
          0.45454545454545453,
          0.713352257006812,
          0.75,
          0.4738173240163877,
          0.9545454545454546
         ],
         "y": [
          0.783569145604615,
          0.28356914560461505,
          1.0724637681159421,
          0.5,
          0.5,
          0.5,
          0.518323871496594,
          0.07246376811594203,
          0.19763464803277542,
          0.5
         ]
        }
       ],
       "layout": {
        "height": 180,
        "margin": {
         "b": 0,
         "l": 0,
         "r": 0,
         "t": 0
        },
        "showlegend": false,
        "width": 320,
        "xaxis": {
         "showgrid": false,
         "showticklabels": false,
         "zeroline": false
        },
        "yaxis": {
         "showgrid": false,
         "showticklabels": false,
         "zeroline": false
        }
       }
      },
      "text/html": [
       "<div id=\"138c5600-080c-4402-a796-5d81676f695f\" style=\"height: 180px; width: 320px;\" class=\"plotly-graph-div\"></div><script type=\"text/javascript\">require([\"plotly\"], function(Plotly) { window.PLOTLYENV=window.PLOTLYENV || {};window.PLOTLYENV.BASE_URL=\"https://plot.ly\";Plotly.newPlot(\"138c5600-080c-4402-a796-5d81676f695f\", [{\"hoverinfo\": \"none\", \"line\": {\"color\": \"rgb(0, 0, 0)\", \"width\": 2}, \"mode\": \"lines\", \"x\": [0.0, 0.5, null, 0.46643085439538495, 0.44538388103556675, null, 0.46643085439538495, 0.4285584341548651, null, 0.0, 0.5, null, 0.46643085439538495, 0.4285584341548651, null, 0.46643085439538495, 0.44538388103556675, null, 0.5, 1.0, null, 0.9621212121212122, 0.9288794484132434, null, 0.9621212121212122, 0.9288794484132434, null, 0.5075757575757576, 0.5075757575757576, null, 0.5075757575757576, 0.5257358158562198, null, 1.0075757575757576, 1.0075757575757576, null, 1.0075757575757576, 1.0257358158562198, null, 0.49242424242424243, 0.49242424242424243, null, 0.49242424242424243, 0.4742641841437802, null, 0.5, 1.0, null, 0.9738173240163878, 0.9639630823912474, null, 0.9738173240163878, 0.9377166459078401, null, 0.5, 1.0, null, 0.9621212121212122, 0.9288794484132434, null, 0.9621212121212122, 0.9288794484132434, null, 1.0, 0.0, null, 0.03664774299318793, 0.07340128670201525, null, 0.03664774299318793, 0.06421703965128427, null, 0.9924242424242424, 0.9924242424242424, null, 0.9924242424242424, 0.9742641841437802, null], \"y\": [0.5, 1.0, null, 0.966430854395385, 0.906182816233176, null, 0.966430854395385, 0.967759498957256, null, 0.5, 0.0, null, 0.03356914560461503, 0.032240501042743994, null, 0.03356914560461503, 0.09381718376682407, null, 1.0, 1.0, null, 1.0, 0.9652590189417244, null, 1.0, 1.0347409810582755, null, 1.0, 0.0, null, 0.07246376811594203, 0.13605670738336034, null, 1.0, 0.0, null, 0.07246376811594203, 0.13605670738336034, null, 0.0, 1.0, null, 0.927536231884058, 0.8639432926166397, null, 0.0, 1.0, null, 0.9476346480327754, 0.8776659754484841, null, 0.9476346480327754, 0.9256934811496907, null, 0.0, 0.0, null, 0.0, -0.03474098105827558, null, 0.0, 0.03474098105827558, null, 0.0, 0.5, null, 0.481676128503406, 0.4992073320037643, null, 0.481676128503406, 0.4319835048195859, null, 0.0, 1.0, null, 0.927536231884058, 0.8639432926166397, null], \"type\": \"scatter\", \"uid\": \"b180ab0b-a23e-11e8-8842-5cc9d35576a8\"}, {\"hoverinfo\": \"none\", \"marker\": {\"color\": \"rgb(255, 255, 255)\", \"line\": {\"color\": \"rgb(0, 0, 0)\", \"width\": 2}, \"size\": 20}, \"mode\": \"markers+text\", \"text\": [\"0\", \"1\", \"2\", \"3\", \"4\"], \"textfont\": {\"color\": \"rgb(0, 0, 0)\"}, \"textposition\": \"middle center\", \"x\": [0.0, 0.5, 1.0, 0.5, 1.0], \"y\": [0.5, 1.0, 1.0, 0.0, 0.0], \"type\": \"scatter\", \"uid\": \"b180ab0c-a23e-11e8-8842-5cc9d35576a8\"}, {\"hoverinfo\": \"none\", \"mode\": \"text\", \"text\": [\"?\", \"?\", \"?\", \"?\", \"?\", \"?\", \"?\", \"?\", \"?\", \"?\"], \"textfont\": {\"color\": \"rgb(0, 0, 0)\"}, \"textposition\": \"middle center\", \"x\": [0.21643085439538495, 0.28356914560461505, 0.75, 0.5454545454545454, 1.0454545454545454, 0.45454545454545453, 0.713352257006812, 0.75, 0.4738173240163877, 0.9545454545454546], \"y\": [0.783569145604615, 0.28356914560461505, 1.0724637681159421, 0.5, 0.5, 0.5, 0.518323871496594, 0.07246376811594203, 0.19763464803277542, 0.5], \"type\": \"scatter\", \"uid\": \"b180ab0d-a23e-11e8-8842-5cc9d35576a8\"}], {\"height\": 180, \"margin\": {\"b\": 0, \"l\": 0, \"r\": 0, \"t\": 0}, \"showlegend\": false, \"width\": 320, \"xaxis\": {\"showgrid\": false, \"showticklabels\": false, \"zeroline\": false}, \"yaxis\": {\"showgrid\": false, \"showticklabels\": false, \"zeroline\": false}}, {\"showLink\": false, \"linkText\": \"Export to plot.ly\", \"displayModeBar\": false})});</script>"
      ],
      "text/vnd.plotly.v1+html": [
       "<div id=\"138c5600-080c-4402-a796-5d81676f695f\" style=\"height: 180px; width: 320px;\" class=\"plotly-graph-div\"></div><script type=\"text/javascript\">require([\"plotly\"], function(Plotly) { window.PLOTLYENV=window.PLOTLYENV || {};window.PLOTLYENV.BASE_URL=\"https://plot.ly\";Plotly.newPlot(\"138c5600-080c-4402-a796-5d81676f695f\", [{\"hoverinfo\": \"none\", \"line\": {\"color\": \"rgb(0, 0, 0)\", \"width\": 2}, \"mode\": \"lines\", \"x\": [0.0, 0.5, null, 0.46643085439538495, 0.44538388103556675, null, 0.46643085439538495, 0.4285584341548651, null, 0.0, 0.5, null, 0.46643085439538495, 0.4285584341548651, null, 0.46643085439538495, 0.44538388103556675, null, 0.5, 1.0, null, 0.9621212121212122, 0.9288794484132434, null, 0.9621212121212122, 0.9288794484132434, null, 0.5075757575757576, 0.5075757575757576, null, 0.5075757575757576, 0.5257358158562198, null, 1.0075757575757576, 1.0075757575757576, null, 1.0075757575757576, 1.0257358158562198, null, 0.49242424242424243, 0.49242424242424243, null, 0.49242424242424243, 0.4742641841437802, null, 0.5, 1.0, null, 0.9738173240163878, 0.9639630823912474, null, 0.9738173240163878, 0.9377166459078401, null, 0.5, 1.0, null, 0.9621212121212122, 0.9288794484132434, null, 0.9621212121212122, 0.9288794484132434, null, 1.0, 0.0, null, 0.03664774299318793, 0.07340128670201525, null, 0.03664774299318793, 0.06421703965128427, null, 0.9924242424242424, 0.9924242424242424, null, 0.9924242424242424, 0.9742641841437802, null], \"y\": [0.5, 1.0, null, 0.966430854395385, 0.906182816233176, null, 0.966430854395385, 0.967759498957256, null, 0.5, 0.0, null, 0.03356914560461503, 0.032240501042743994, null, 0.03356914560461503, 0.09381718376682407, null, 1.0, 1.0, null, 1.0, 0.9652590189417244, null, 1.0, 1.0347409810582755, null, 1.0, 0.0, null, 0.07246376811594203, 0.13605670738336034, null, 1.0, 0.0, null, 0.07246376811594203, 0.13605670738336034, null, 0.0, 1.0, null, 0.927536231884058, 0.8639432926166397, null, 0.0, 1.0, null, 0.9476346480327754, 0.8776659754484841, null, 0.9476346480327754, 0.9256934811496907, null, 0.0, 0.0, null, 0.0, -0.03474098105827558, null, 0.0, 0.03474098105827558, null, 0.0, 0.5, null, 0.481676128503406, 0.4992073320037643, null, 0.481676128503406, 0.4319835048195859, null, 0.0, 1.0, null, 0.927536231884058, 0.8639432926166397, null], \"type\": \"scatter\", \"uid\": \"b180ab0b-a23e-11e8-8842-5cc9d35576a8\"}, {\"hoverinfo\": \"none\", \"marker\": {\"color\": \"rgb(255, 255, 255)\", \"line\": {\"color\": \"rgb(0, 0, 0)\", \"width\": 2}, \"size\": 20}, \"mode\": \"markers+text\", \"text\": [\"0\", \"1\", \"2\", \"3\", \"4\"], \"textfont\": {\"color\": \"rgb(0, 0, 0)\"}, \"textposition\": \"middle center\", \"x\": [0.0, 0.5, 1.0, 0.5, 1.0], \"y\": [0.5, 1.0, 1.0, 0.0, 0.0], \"type\": \"scatter\", \"uid\": \"b180ab0c-a23e-11e8-8842-5cc9d35576a8\"}, {\"hoverinfo\": \"none\", \"mode\": \"text\", \"text\": [\"?\", \"?\", \"?\", \"?\", \"?\", \"?\", \"?\", \"?\", \"?\", \"?\"], \"textfont\": {\"color\": \"rgb(0, 0, 0)\"}, \"textposition\": \"middle center\", \"x\": [0.21643085439538495, 0.28356914560461505, 0.75, 0.5454545454545454, 1.0454545454545454, 0.45454545454545453, 0.713352257006812, 0.75, 0.4738173240163877, 0.9545454545454546], \"y\": [0.783569145604615, 0.28356914560461505, 1.0724637681159421, 0.5, 0.5, 0.5, 0.518323871496594, 0.07246376811594203, 0.19763464803277542, 0.5], \"type\": \"scatter\", \"uid\": \"b180ab0d-a23e-11e8-8842-5cc9d35576a8\"}], {\"height\": 180, \"margin\": {\"b\": 0, \"l\": 0, \"r\": 0, \"t\": 0}, \"showlegend\": false, \"width\": 320, \"xaxis\": {\"showgrid\": false, \"showticklabels\": false, \"zeroline\": false}, \"yaxis\": {\"showgrid\": false, \"showticklabels\": false, \"zeroline\": false}}, {\"showLink\": false, \"linkText\": \"Export to plot.ly\", \"displayModeBar\": false})});</script>"
      ]
     },
     "metadata": {},
     "output_type": "display_data"
    }
   ],
   "source": [
    "sn.show_graph(ug, nlab=True, elab=True)\n",
    "sn.show_graph(dg, nlab=True, elab=True)"
   ]
  },
  {
   "cell_type": "markdown",
   "metadata": {},
   "source": [
    "## Vizinhos, predecessores e sucessores\n",
    "\n",
    "Considere um grafo $(N, E)$ e um nó $n$. Suponha que esse grafo é não-dirigido.\n",
    "\n",
    "Nesse caso, dizemos que $n$ é **vizinho** (*neighbor*) de $m$ se $\\{n, m\\} \\in E$. Denotamos por $\\mathcal{N}(n)$ o conjunto dos vizinhos de $n$."
   ]
  },
  {
   "cell_type": "code",
   "execution_count": 13,
   "metadata": {},
   "outputs": [
    {
     "name": "stdout",
     "output_type": "stream",
     "text": [
      "<dict_keyiterator object at 0x7f4980706408>\n"
     ]
    }
   ],
   "source": [
    "print(ug.neighbors(0))"
   ]
  },
  {
   "cell_type": "markdown",
   "metadata": {},
   "source": [
    "Suponha agora que o grafo $(N, E)$ é dirigido.\n",
    "\n",
    "Nesse caso, dizemos que $n$ é **predecessor** de $m$ se $(n, m) \\in E$ e dizemos que $n$ é **sucessor** de $m$ se $(m, n) \\in E$. Denotamos por $\\mathcal{P}(n)$ o conjunto dos predecessores de $n$ e denotamos por $\\mathcal{S}(n)$ o conjunto dos sucessores de $n$."
   ]
  },
  {
   "cell_type": "code",
   "execution_count": 14,
   "metadata": {},
   "outputs": [
    {
     "name": "stdout",
     "output_type": "stream",
     "text": [
      "<dict_keyiterator object at 0x7f49807062c8>\n",
      "<dict_keyiterator object at 0x7f49807062c8>\n"
     ]
    }
   ],
   "source": [
    "print(dg.successors(0))\n",
    "print(dg.predecessors(1))"
   ]
  },
  {
   "cell_type": "markdown",
   "metadata": {},
   "source": [
    "## Passeios, trilhas e caminhos\n",
    "\n",
    "Se $(N, E)$ é um grafo não-dirigido:\n",
    "\n",
    "* um **passeio** (*walk*) é uma sequência de nós $\\langle n_0, n_1, \\ldots, n_{k-1} \\rangle$ tal que, para todo $i$ entre $0$ e $k-2$, temos que $\\{n_i, n_{i + 1}\\} \\in E$;\n",
    "\n",
    "* uma **trilha** (*trail*) é um passeio $\\langle n_0, n_1, \\ldots, n_{k-1} \\rangle$ no qual não existem índices $i$ e $j$ entre $0$ e $k-2$ tais que $i \\neq j$ e $\\{n_i, n_{i+1}\\} = \\{n_j, n_{j+1}\\}$;\n",
    "\n",
    "* um **caminho** (*path*) é um passeio $\\langle n_0, n_1, \\ldots, n_{k-1} \\rangle$ no qual não existem índices $i$ e $j$ entre $0$ e $k-1$ tais que $i \\neq j$ e $n_i = n_j$.\n",
    "\n",
    "Se $(N, E)$ é um grafo dirigido:\n",
    "\n",
    "* um **passeio** (*walk*) é uma sequência de nós $\\langle n_0, n_1, \\ldots, n_{k-1} \\rangle$ tal que, para todo $i$ entre $0$ e $k-2$, temos que $(n_i, n_{i + 1}) \\in E$;\n",
    "\n",
    "* uma **trilha** (*trail*) é um passeio $\\langle n_0, n_1, \\ldots, n_{k-1} \\rangle$ no qual não existem índices $i$ e $j$ entre $0$ e $k-2$ tais que $i \\neq j$ e $(n_i, n_{i+1}) = (n_j, n_{j+1})$;\n",
    "\n",
    "* um **caminho** (*path*) é um passeio $\\langle n_0, n_1, \\ldots, n_{k-1} \\rangle$ no qual não existem índices $i$ e $j$ entre $0$ e $k-1$ tais que $i \\neq j$ e $n_i = n_j$.\n",
    "\n",
    "Pode-se dizer que uma trilha é um passeio que não repete arestas e um caminho é um passeio que não repete nós.\n",
    "\n",
    "### Exercício 1\n",
    "\n",
    "Dê um exemplo de passeio que não é trilha no grafo `ug`."
   ]
  },
  {
   "cell_type": "markdown",
   "metadata": {},
   "source": [
    "0 -> 1 -> 0"
   ]
  },
  {
   "cell_type": "markdown",
   "metadata": {},
   "source": [
    "### Exercício 2\n",
    "\n",
    "Dê um exemplo de passeio que não é trilha no grafo `dg`."
   ]
  },
  {
   "cell_type": "markdown",
   "metadata": {},
   "source": [
    "0 -> 1 -> 2 -> 4 -> 0 -> 1"
   ]
  },
  {
   "cell_type": "markdown",
   "metadata": {},
   "source": [
    "### Exercício 3\n",
    "\n",
    "Dê um exemplo de trilha que não é caminho no grafo `ug`."
   ]
  },
  {
   "cell_type": "markdown",
   "metadata": {},
   "source": [
    "0 -> 1 -> 7 -> 0"
   ]
  },
  {
   "cell_type": "markdown",
   "metadata": {},
   "source": [
    "### Exercício 4\n",
    "\n",
    "Dê um exemplo de trilha que não é caminho no grafo `dg`."
   ]
  },
  {
   "cell_type": "markdown",
   "metadata": {},
   "source": [
    "2 -> 4 -> 2"
   ]
  },
  {
   "cell_type": "markdown",
   "metadata": {},
   "source": [
    "### Exercício 5\n",
    "\n",
    "Use cores para dar um exemplo de caminho no grafo `ug`."
   ]
  },
  {
   "cell_type": "code",
   "execution_count": 18,
   "metadata": {},
   "outputs": [
    {
     "data": {
      "application/vnd.plotly.v1+json": {
       "data": [
        {
         "hoverinfo": "none",
         "line": {
          "color": "rgb(0, 0, 0)",
          "width": 2
         },
         "mode": "lines",
         "type": "scatter",
         "uid": "5d971e22-a243-11e8-8842-5cc9d35576a8",
         "x": [
          0,
          0.25,
          null,
          0,
          0.25,
          null,
          0.25,
          0.25,
          null,
          0.5,
          0.75,
          null,
          0.5,
          0.75,
          null,
          0.5,
          0.375,
          null,
          0.75,
          1,
          null,
          0.75,
          0.75,
          null,
          1,
          0.75,
          null,
          0.75,
          0.5,
          null,
          0.5,
          0.25,
          null,
          0.5,
          0.375,
          null,
          0.25,
          0.375,
          null
         ],
         "y": [
          0.5,
          1,
          null,
          0.5,
          0,
          null,
          1,
          0,
          null,
          1,
          1,
          null,
          1,
          0,
          null,
          1,
          0.5,
          null,
          1,
          0.5,
          null,
          1,
          0,
          null,
          0.5,
          0,
          null,
          0,
          0,
          null,
          0,
          0,
          null,
          0,
          0.5,
          null,
          0,
          0.5,
          null
         ]
        },
        {
         "hoverinfo": "none",
         "line": {
          "color": "rgb(0, 255, 0)",
          "width": 2
         },
         "mode": "lines",
         "type": "scatter",
         "uid": "5d971e23-a243-11e8-8842-5cc9d35576a8",
         "x": [
          0.25,
          0.5,
          null
         ],
         "y": [
          1,
          1,
          null
         ]
        },
        {
         "hoverinfo": "none",
         "marker": {
          "color": "rgb(255, 255, 255)",
          "line": {
           "color": "rgb(0, 0, 0)",
           "width": 2
          },
          "size": 20
         },
         "mode": "markers+text",
         "text": [
          "0",
          "1",
          "2",
          "3",
          "4",
          "5",
          "6",
          "7",
          "8"
         ],
         "textfont": {
          "color": "rgb(0, 0, 0)"
         },
         "textposition": "middle center",
         "type": "scatter",
         "uid": "5d971e24-a243-11e8-8842-5cc9d35576a8",
         "x": [
          0,
          0.25,
          0.5,
          0.75,
          1,
          0.75,
          0.5,
          0.25,
          0.375
         ],
         "y": [
          0.5,
          1,
          1,
          1,
          0.5,
          0,
          0,
          0,
          0.5
         ]
        }
       ],
       "layout": {
        "height": 180,
        "margin": {
         "b": 0,
         "l": 0,
         "r": 0,
         "t": 0
        },
        "showlegend": false,
        "width": 320,
        "xaxis": {
         "showgrid": false,
         "showticklabels": false,
         "zeroline": false
        },
        "yaxis": {
         "showgrid": false,
         "showticklabels": false,
         "zeroline": false
        }
       }
      },
      "text/html": [
       "<div id=\"94c484e6-67d9-4fcd-8281-fc2f1dcf56cd\" style=\"height: 180px; width: 320px;\" class=\"plotly-graph-div\"></div><script type=\"text/javascript\">require([\"plotly\"], function(Plotly) { window.PLOTLYENV=window.PLOTLYENV || {};window.PLOTLYENV.BASE_URL=\"https://plot.ly\";Plotly.newPlot(\"94c484e6-67d9-4fcd-8281-fc2f1dcf56cd\", [{\"hoverinfo\": \"none\", \"line\": {\"color\": \"rgb(0, 0, 0)\", \"width\": 2}, \"mode\": \"lines\", \"x\": [0.0, 0.25, null, 0.0, 0.25, null, 0.25, 0.25, null, 0.5, 0.75, null, 0.5, 0.75, null, 0.5, 0.375, null, 0.75, 1.0, null, 0.75, 0.75, null, 1.0, 0.75, null, 0.75, 0.5, null, 0.5, 0.25, null, 0.5, 0.375, null, 0.25, 0.375, null], \"y\": [0.5, 1.0, null, 0.5, 0.0, null, 1.0, 0.0, null, 1.0, 1.0, null, 1.0, 0.0, null, 1.0, 0.5, null, 1.0, 0.5, null, 1.0, 0.0, null, 0.5, 0.0, null, 0.0, 0.0, null, 0.0, 0.0, null, 0.0, 0.5, null, 0.0, 0.5, null], \"type\": \"scatter\", \"uid\": \"5d971e25-a243-11e8-8842-5cc9d35576a8\"}, {\"hoverinfo\": \"none\", \"line\": {\"color\": \"rgb(0, 255, 0)\", \"width\": 2}, \"mode\": \"lines\", \"x\": [0.25, 0.5, null], \"y\": [1.0, 1.0, null], \"type\": \"scatter\", \"uid\": \"5d971e26-a243-11e8-8842-5cc9d35576a8\"}, {\"hoverinfo\": \"none\", \"marker\": {\"color\": \"rgb(255, 255, 255)\", \"line\": {\"color\": \"rgb(0, 0, 0)\", \"width\": 2}, \"size\": 20}, \"mode\": \"markers+text\", \"text\": [\"0\", \"1\", \"2\", \"3\", \"4\", \"5\", \"6\", \"7\", \"8\"], \"textfont\": {\"color\": \"rgb(0, 0, 0)\"}, \"textposition\": \"middle center\", \"x\": [0.0, 0.25, 0.5, 0.75, 1.0, 0.75, 0.5, 0.25, 0.375], \"y\": [0.5, 1.0, 1.0, 1.0, 0.5, 0.0, 0.0, 0.0, 0.5], \"type\": \"scatter\", \"uid\": \"5d971e27-a243-11e8-8842-5cc9d35576a8\"}], {\"height\": 180, \"margin\": {\"b\": 0, \"l\": 0, \"r\": 0, \"t\": 0}, \"showlegend\": false, \"width\": 320, \"xaxis\": {\"showgrid\": false, \"showticklabels\": false, \"zeroline\": false}, \"yaxis\": {\"showgrid\": false, \"showticklabels\": false, \"zeroline\": false}}, {\"showLink\": false, \"linkText\": \"Export to plot.ly\", \"displayModeBar\": false})});</script>"
      ],
      "text/vnd.plotly.v1+html": [
       "<div id=\"94c484e6-67d9-4fcd-8281-fc2f1dcf56cd\" style=\"height: 180px; width: 320px;\" class=\"plotly-graph-div\"></div><script type=\"text/javascript\">require([\"plotly\"], function(Plotly) { window.PLOTLYENV=window.PLOTLYENV || {};window.PLOTLYENV.BASE_URL=\"https://plot.ly\";Plotly.newPlot(\"94c484e6-67d9-4fcd-8281-fc2f1dcf56cd\", [{\"hoverinfo\": \"none\", \"line\": {\"color\": \"rgb(0, 0, 0)\", \"width\": 2}, \"mode\": \"lines\", \"x\": [0.0, 0.25, null, 0.0, 0.25, null, 0.25, 0.25, null, 0.5, 0.75, null, 0.5, 0.75, null, 0.5, 0.375, null, 0.75, 1.0, null, 0.75, 0.75, null, 1.0, 0.75, null, 0.75, 0.5, null, 0.5, 0.25, null, 0.5, 0.375, null, 0.25, 0.375, null], \"y\": [0.5, 1.0, null, 0.5, 0.0, null, 1.0, 0.0, null, 1.0, 1.0, null, 1.0, 0.0, null, 1.0, 0.5, null, 1.0, 0.5, null, 1.0, 0.0, null, 0.5, 0.0, null, 0.0, 0.0, null, 0.0, 0.0, null, 0.0, 0.5, null, 0.0, 0.5, null], \"type\": \"scatter\", \"uid\": \"5d971e25-a243-11e8-8842-5cc9d35576a8\"}, {\"hoverinfo\": \"none\", \"line\": {\"color\": \"rgb(0, 255, 0)\", \"width\": 2}, \"mode\": \"lines\", \"x\": [0.25, 0.5, null], \"y\": [1.0, 1.0, null], \"type\": \"scatter\", \"uid\": \"5d971e26-a243-11e8-8842-5cc9d35576a8\"}, {\"hoverinfo\": \"none\", \"marker\": {\"color\": \"rgb(255, 255, 255)\", \"line\": {\"color\": \"rgb(0, 0, 0)\", \"width\": 2}, \"size\": 20}, \"mode\": \"markers+text\", \"text\": [\"0\", \"1\", \"2\", \"3\", \"4\", \"5\", \"6\", \"7\", \"8\"], \"textfont\": {\"color\": \"rgb(0, 0, 0)\"}, \"textposition\": \"middle center\", \"x\": [0.0, 0.25, 0.5, 0.75, 1.0, 0.75, 0.5, 0.25, 0.375], \"y\": [0.5, 1.0, 1.0, 1.0, 0.5, 0.0, 0.0, 0.0, 0.5], \"type\": \"scatter\", \"uid\": \"5d971e27-a243-11e8-8842-5cc9d35576a8\"}], {\"height\": 180, \"margin\": {\"b\": 0, \"l\": 0, \"r\": 0, \"t\": 0}, \"showlegend\": false, \"width\": 320, \"xaxis\": {\"showgrid\": false, \"showticklabels\": false, \"zeroline\": false}, \"yaxis\": {\"showgrid\": false, \"showticklabels\": false, \"zeroline\": false}}, {\"showLink\": false, \"linkText\": \"Export to plot.ly\", \"displayModeBar\": false})});</script>"
      ]
     },
     "metadata": {},
     "output_type": "display_data"
    }
   ],
   "source": [
    "ug.edges[1, 2]['color'] = (0, 255, 0)\n",
    "sn.show_graph(ug, nlab=True)"
   ]
  },
  {
   "cell_type": "markdown",
   "metadata": {},
   "source": [
    "### Exercício 6\n",
    "\n",
    "Use cores para dar um exemplo de caminho no grafo `dg`."
   ]
  },
  {
   "cell_type": "code",
   "execution_count": 19,
   "metadata": {},
   "outputs": [
    {
     "data": {
      "application/vnd.plotly.v1+json": {
       "data": [
        {
         "hoverinfo": "none",
         "line": {
          "color": "rgb(0, 0, 0)",
          "width": 2
         },
         "mode": "lines",
         "type": "scatter",
         "uid": "5d971e28-a243-11e8-8842-5cc9d35576a8",
         "x": [
          0,
          0.5,
          null,
          0.46643085439538495,
          0.44538388103556675,
          null,
          0.46643085439538495,
          0.4285584341548651,
          null,
          0,
          0.5,
          null,
          0.46643085439538495,
          0.4285584341548651,
          null,
          0.46643085439538495,
          0.44538388103556675,
          null,
          0.5075757575757576,
          0.5075757575757576,
          null,
          0.5075757575757576,
          0.5257358158562198,
          null,
          1.0075757575757576,
          1.0075757575757576,
          null,
          1.0075757575757576,
          1.0257358158562198,
          null,
          0.49242424242424243,
          0.49242424242424243,
          null,
          0.49242424242424243,
          0.4742641841437802,
          null,
          0.5,
          1,
          null,
          0.9738173240163878,
          0.9639630823912474,
          null,
          0.9738173240163878,
          0.9377166459078401,
          null,
          0.5,
          1,
          null,
          0.9621212121212122,
          0.9288794484132434,
          null,
          0.9621212121212122,
          0.9288794484132434,
          null,
          1,
          0,
          null,
          0.03664774299318793,
          0.07340128670201525,
          null,
          0.03664774299318793,
          0.06421703965128427,
          null,
          0.9924242424242424,
          0.9924242424242424,
          null,
          0.9924242424242424,
          0.9742641841437802,
          null
         ],
         "y": [
          0.5,
          1,
          null,
          0.966430854395385,
          0.906182816233176,
          null,
          0.966430854395385,
          0.967759498957256,
          null,
          0.5,
          0,
          null,
          0.03356914560461503,
          0.032240501042743994,
          null,
          0.03356914560461503,
          0.09381718376682407,
          null,
          1,
          0,
          null,
          0.07246376811594203,
          0.13605670738336034,
          null,
          1,
          0,
          null,
          0.07246376811594203,
          0.13605670738336034,
          null,
          0,
          1,
          null,
          0.927536231884058,
          0.8639432926166397,
          null,
          0,
          1,
          null,
          0.9476346480327754,
          0.8776659754484841,
          null,
          0.9476346480327754,
          0.9256934811496907,
          null,
          0,
          0,
          null,
          0,
          -0.03474098105827558,
          null,
          0,
          0.03474098105827558,
          null,
          0,
          0.5,
          null,
          0.481676128503406,
          0.4992073320037643,
          null,
          0.481676128503406,
          0.4319835048195859,
          null,
          0,
          1,
          null,
          0.927536231884058,
          0.8639432926166397,
          null
         ]
        },
        {
         "hoverinfo": "none",
         "line": {
          "color": "rgb(0, 255, 0)",
          "width": 2
         },
         "mode": "lines",
         "type": "scatter",
         "uid": "5d971e29-a243-11e8-8842-5cc9d35576a8",
         "x": [
          0.5,
          1,
          null,
          0.9621212121212122,
          0.9288794484132434,
          null,
          0.9621212121212122,
          0.9288794484132434,
          null
         ],
         "y": [
          1,
          1,
          null,
          1,
          0.9652590189417244,
          null,
          1,
          1.0347409810582755,
          null
         ]
        },
        {
         "hoverinfo": "none",
         "marker": {
          "color": "rgb(255, 255, 255)",
          "line": {
           "color": "rgb(0, 0, 0)",
           "width": 2
          },
          "size": 20
         },
         "mode": "markers+text",
         "text": [
          "0",
          "1",
          "2",
          "3",
          "4"
         ],
         "textfont": {
          "color": "rgb(0, 0, 0)"
         },
         "textposition": "middle center",
         "type": "scatter",
         "uid": "5d971e2a-a243-11e8-8842-5cc9d35576a8",
         "x": [
          0,
          0.5,
          1,
          0.5,
          1
         ],
         "y": [
          0.5,
          1,
          1,
          0,
          0
         ]
        }
       ],
       "layout": {
        "height": 180,
        "margin": {
         "b": 0,
         "l": 0,
         "r": 0,
         "t": 0
        },
        "showlegend": false,
        "width": 320,
        "xaxis": {
         "showgrid": false,
         "showticklabels": false,
         "zeroline": false
        },
        "yaxis": {
         "showgrid": false,
         "showticklabels": false,
         "zeroline": false
        }
       }
      },
      "text/html": [
       "<div id=\"2ed6c2dd-0fc7-4f89-a8b3-bab24bed56ee\" style=\"height: 180px; width: 320px;\" class=\"plotly-graph-div\"></div><script type=\"text/javascript\">require([\"plotly\"], function(Plotly) { window.PLOTLYENV=window.PLOTLYENV || {};window.PLOTLYENV.BASE_URL=\"https://plot.ly\";Plotly.newPlot(\"2ed6c2dd-0fc7-4f89-a8b3-bab24bed56ee\", [{\"hoverinfo\": \"none\", \"line\": {\"color\": \"rgb(0, 0, 0)\", \"width\": 2}, \"mode\": \"lines\", \"x\": [0.0, 0.5, null, 0.46643085439538495, 0.44538388103556675, null, 0.46643085439538495, 0.4285584341548651, null, 0.0, 0.5, null, 0.46643085439538495, 0.4285584341548651, null, 0.46643085439538495, 0.44538388103556675, null, 0.5075757575757576, 0.5075757575757576, null, 0.5075757575757576, 0.5257358158562198, null, 1.0075757575757576, 1.0075757575757576, null, 1.0075757575757576, 1.0257358158562198, null, 0.49242424242424243, 0.49242424242424243, null, 0.49242424242424243, 0.4742641841437802, null, 0.5, 1.0, null, 0.9738173240163878, 0.9639630823912474, null, 0.9738173240163878, 0.9377166459078401, null, 0.5, 1.0, null, 0.9621212121212122, 0.9288794484132434, null, 0.9621212121212122, 0.9288794484132434, null, 1.0, 0.0, null, 0.03664774299318793, 0.07340128670201525, null, 0.03664774299318793, 0.06421703965128427, null, 0.9924242424242424, 0.9924242424242424, null, 0.9924242424242424, 0.9742641841437802, null], \"y\": [0.5, 1.0, null, 0.966430854395385, 0.906182816233176, null, 0.966430854395385, 0.967759498957256, null, 0.5, 0.0, null, 0.03356914560461503, 0.032240501042743994, null, 0.03356914560461503, 0.09381718376682407, null, 1.0, 0.0, null, 0.07246376811594203, 0.13605670738336034, null, 1.0, 0.0, null, 0.07246376811594203, 0.13605670738336034, null, 0.0, 1.0, null, 0.927536231884058, 0.8639432926166397, null, 0.0, 1.0, null, 0.9476346480327754, 0.8776659754484841, null, 0.9476346480327754, 0.9256934811496907, null, 0.0, 0.0, null, 0.0, -0.03474098105827558, null, 0.0, 0.03474098105827558, null, 0.0, 0.5, null, 0.481676128503406, 0.4992073320037643, null, 0.481676128503406, 0.4319835048195859, null, 0.0, 1.0, null, 0.927536231884058, 0.8639432926166397, null], \"type\": \"scatter\", \"uid\": \"5d971e2b-a243-11e8-8842-5cc9d35576a8\"}, {\"hoverinfo\": \"none\", \"line\": {\"color\": \"rgb(0, 255, 0)\", \"width\": 2}, \"mode\": \"lines\", \"x\": [0.5, 1.0, null, 0.9621212121212122, 0.9288794484132434, null, 0.9621212121212122, 0.9288794484132434, null], \"y\": [1.0, 1.0, null, 1.0, 0.9652590189417244, null, 1.0, 1.0347409810582755, null], \"type\": \"scatter\", \"uid\": \"5d971e2c-a243-11e8-8842-5cc9d35576a8\"}, {\"hoverinfo\": \"none\", \"marker\": {\"color\": \"rgb(255, 255, 255)\", \"line\": {\"color\": \"rgb(0, 0, 0)\", \"width\": 2}, \"size\": 20}, \"mode\": \"markers+text\", \"text\": [\"0\", \"1\", \"2\", \"3\", \"4\"], \"textfont\": {\"color\": \"rgb(0, 0, 0)\"}, \"textposition\": \"middle center\", \"x\": [0.0, 0.5, 1.0, 0.5, 1.0], \"y\": [0.5, 1.0, 1.0, 0.0, 0.0], \"type\": \"scatter\", \"uid\": \"5d971e2d-a243-11e8-8842-5cc9d35576a8\"}], {\"height\": 180, \"margin\": {\"b\": 0, \"l\": 0, \"r\": 0, \"t\": 0}, \"showlegend\": false, \"width\": 320, \"xaxis\": {\"showgrid\": false, \"showticklabels\": false, \"zeroline\": false}, \"yaxis\": {\"showgrid\": false, \"showticklabels\": false, \"zeroline\": false}}, {\"showLink\": false, \"linkText\": \"Export to plot.ly\", \"displayModeBar\": false})});</script>"
      ],
      "text/vnd.plotly.v1+html": [
       "<div id=\"2ed6c2dd-0fc7-4f89-a8b3-bab24bed56ee\" style=\"height: 180px; width: 320px;\" class=\"plotly-graph-div\"></div><script type=\"text/javascript\">require([\"plotly\"], function(Plotly) { window.PLOTLYENV=window.PLOTLYENV || {};window.PLOTLYENV.BASE_URL=\"https://plot.ly\";Plotly.newPlot(\"2ed6c2dd-0fc7-4f89-a8b3-bab24bed56ee\", [{\"hoverinfo\": \"none\", \"line\": {\"color\": \"rgb(0, 0, 0)\", \"width\": 2}, \"mode\": \"lines\", \"x\": [0.0, 0.5, null, 0.46643085439538495, 0.44538388103556675, null, 0.46643085439538495, 0.4285584341548651, null, 0.0, 0.5, null, 0.46643085439538495, 0.4285584341548651, null, 0.46643085439538495, 0.44538388103556675, null, 0.5075757575757576, 0.5075757575757576, null, 0.5075757575757576, 0.5257358158562198, null, 1.0075757575757576, 1.0075757575757576, null, 1.0075757575757576, 1.0257358158562198, null, 0.49242424242424243, 0.49242424242424243, null, 0.49242424242424243, 0.4742641841437802, null, 0.5, 1.0, null, 0.9738173240163878, 0.9639630823912474, null, 0.9738173240163878, 0.9377166459078401, null, 0.5, 1.0, null, 0.9621212121212122, 0.9288794484132434, null, 0.9621212121212122, 0.9288794484132434, null, 1.0, 0.0, null, 0.03664774299318793, 0.07340128670201525, null, 0.03664774299318793, 0.06421703965128427, null, 0.9924242424242424, 0.9924242424242424, null, 0.9924242424242424, 0.9742641841437802, null], \"y\": [0.5, 1.0, null, 0.966430854395385, 0.906182816233176, null, 0.966430854395385, 0.967759498957256, null, 0.5, 0.0, null, 0.03356914560461503, 0.032240501042743994, null, 0.03356914560461503, 0.09381718376682407, null, 1.0, 0.0, null, 0.07246376811594203, 0.13605670738336034, null, 1.0, 0.0, null, 0.07246376811594203, 0.13605670738336034, null, 0.0, 1.0, null, 0.927536231884058, 0.8639432926166397, null, 0.0, 1.0, null, 0.9476346480327754, 0.8776659754484841, null, 0.9476346480327754, 0.9256934811496907, null, 0.0, 0.0, null, 0.0, -0.03474098105827558, null, 0.0, 0.03474098105827558, null, 0.0, 0.5, null, 0.481676128503406, 0.4992073320037643, null, 0.481676128503406, 0.4319835048195859, null, 0.0, 1.0, null, 0.927536231884058, 0.8639432926166397, null], \"type\": \"scatter\", \"uid\": \"5d971e2b-a243-11e8-8842-5cc9d35576a8\"}, {\"hoverinfo\": \"none\", \"line\": {\"color\": \"rgb(0, 255, 0)\", \"width\": 2}, \"mode\": \"lines\", \"x\": [0.5, 1.0, null, 0.9621212121212122, 0.9288794484132434, null, 0.9621212121212122, 0.9288794484132434, null], \"y\": [1.0, 1.0, null, 1.0, 0.9652590189417244, null, 1.0, 1.0347409810582755, null], \"type\": \"scatter\", \"uid\": \"5d971e2c-a243-11e8-8842-5cc9d35576a8\"}, {\"hoverinfo\": \"none\", \"marker\": {\"color\": \"rgb(255, 255, 255)\", \"line\": {\"color\": \"rgb(0, 0, 0)\", \"width\": 2}, \"size\": 20}, \"mode\": \"markers+text\", \"text\": [\"0\", \"1\", \"2\", \"3\", \"4\"], \"textfont\": {\"color\": \"rgb(0, 0, 0)\"}, \"textposition\": \"middle center\", \"x\": [0.0, 0.5, 1.0, 0.5, 1.0], \"y\": [0.5, 1.0, 1.0, 0.0, 0.0], \"type\": \"scatter\", \"uid\": \"5d971e2d-a243-11e8-8842-5cc9d35576a8\"}], {\"height\": 180, \"margin\": {\"b\": 0, \"l\": 0, \"r\": 0, \"t\": 0}, \"showlegend\": false, \"width\": 320, \"xaxis\": {\"showgrid\": false, \"showticklabels\": false, \"zeroline\": false}, \"yaxis\": {\"showgrid\": false, \"showticklabels\": false, \"zeroline\": false}}, {\"showLink\": false, \"linkText\": \"Export to plot.ly\", \"displayModeBar\": false})});</script>"
      ]
     },
     "metadata": {},
     "output_type": "display_data"
    }
   ],
   "source": [
    "dg.edges[1, 2]['color'] = (0, 255, 0)\n",
    "sn.show_graph(dg, nlab=True)"
   ]
  },
  {
   "cell_type": "markdown",
   "metadata": {},
   "source": [
    "## Posicionamento dos nós\n",
    "\n",
    "Para encerrar, vamos carregar o grafo do encontro anterior. O próprio arquivo atribui `label` aos nós, portanto não é necessário criá-los."
   ]
  },
  {
   "cell_type": "code",
   "execution_count": 21,
   "metadata": {},
   "outputs": [
    {
     "data": {
      "application/vnd.plotly.v1+json": {
       "data": [
        {
         "hoverinfo": "none",
         "line": {
          "color": "rgb(0, 0, 0)",
          "width": 2
         },
         "mode": "lines",
         "type": "scatter",
         "uid": "d82ee23c-a243-11e8-8842-5cc9d35576a8",
         "x": [
          0.4963144963144963,
          0.05405405405405406,
          null,
          0.4963144963144963,
          0.10319410319410319,
          null,
          0.4963144963144963,
          0.25061425061425063,
          null,
          0.4963144963144963,
          0.9115479115479116,
          null,
          0.4963144963144963,
          0.9877149877149877,
          null,
          0.4963144963144963,
          0.941031941031941,
          null,
          0.4963144963144963,
          0.8304668304668305,
          null,
          0.3022113022113022,
          0.009828009828009828,
          null,
          0.3022113022113022,
          0.10319410319410319,
          null,
          0.3022113022113022,
          0.4004914004914005,
          null,
          0.3022113022113022,
          0.742014742014742,
          null,
          0.3022113022113022,
          1,
          null,
          0.15233415233415235,
          0.6953316953316954,
          null,
          0.15233415233415235,
          1,
          null,
          0.15233415233415235,
          0.742014742014742,
          null,
          0.05405405405405406,
          0.8304668304668305,
          null,
          0.05405405405405406,
          0.941031941031941,
          null,
          0.05405405405405406,
          0.9877149877149877,
          null,
          0.05405405405405406,
          0.9115479115479116,
          null,
          0.05405405405405406,
          0.597051597051597,
          null,
          0.05405405405405406,
          0.25061425061425063,
          null,
          0.05405405405405406,
          0,
          null,
          0,
          0.597051597051597,
          null,
          0,
          0.25061425061425063,
          null,
          0.009828009828009828,
          0.6953316953316954,
          null,
          0.009828009828009828,
          1,
          null,
          0.009828009828009828,
          0.742014742014742,
          null,
          0.009828009828009828,
          0.4004914004914005,
          null,
          0.10319410319410319,
          0.9115479115479116,
          null,
          0.10319410319410319,
          0.742014742014742,
          null,
          0.25061425061425063,
          0.8304668304668305,
          null,
          0.25061425061425063,
          0.9877149877149877,
          null,
          0.25061425061425063,
          0.9115479115479116,
          null,
          0.4004914004914005,
          1,
          null,
          0.597051597051597,
          0.9877149877149877,
          null,
          0.742014742014742,
          0.6953316953316954,
          null,
          0.742014742014742,
          1,
          null,
          0.9115479115479116,
          0.941031941031941,
          null,
          0.9115479115479116,
          0.9877149877149877,
          null,
          0.9877149877149877,
          0.8304668304668305,
          null,
          1,
          0.6953316953316954,
          null
         ],
         "y": [
          1,
          0.7213930348258706,
          null,
          1,
          0.20149253731343286,
          null,
          1,
          0.07213930348258701,
          null,
          1,
          0.20149253731343286,
          null,
          1,
          0.3731343283582089,
          null,
          1,
          0.7238805970149254,
          null,
          1,
          0.8706467661691543,
          null,
          0.9701492537313433,
          0.37064676616915426,
          null,
          0.9701492537313433,
          0.20149253731343286,
          null,
          0.9701492537313433,
          0,
          null,
          0.9701492537313433,
          0.07462686567164178,
          null,
          0.9701492537313433,
          0.5472636815920398,
          null,
          0.8731343283582089,
          0.9676616915422885,
          null,
          0.8731343283582089,
          0.5472636815920398,
          null,
          0.8731343283582089,
          0.07462686567164178,
          null,
          0.7213930348258706,
          0.8706467661691543,
          null,
          0.7213930348258706,
          0.7238805970149254,
          null,
          0.7213930348258706,
          0.3731343283582089,
          null,
          0.7213930348258706,
          0.20149253731343286,
          null,
          0.7213930348258706,
          0,
          null,
          0.7213930348258706,
          0.07213930348258701,
          null,
          0.7213930348258706,
          0.5447761194029851,
          null,
          0.5447761194029851,
          0,
          null,
          0.5447761194029851,
          0.07213930348258701,
          null,
          0.37064676616915426,
          0.9676616915422885,
          null,
          0.37064676616915426,
          0.5472636815920398,
          null,
          0.37064676616915426,
          0.07462686567164178,
          null,
          0.37064676616915426,
          0,
          null,
          0.20149253731343286,
          0.20149253731343286,
          null,
          0.20149253731343286,
          0.07462686567164178,
          null,
          0.07213930348258701,
          0.8706467661691543,
          null,
          0.07213930348258701,
          0.3731343283582089,
          null,
          0.07213930348258701,
          0.20149253731343286,
          null,
          0,
          0.5472636815920398,
          null,
          0,
          0.3731343283582089,
          null,
          0.07462686567164178,
          0.9676616915422885,
          null,
          0.07462686567164178,
          0.5472636815920398,
          null,
          0.20149253731343286,
          0.7238805970149254,
          null,
          0.20149253731343286,
          0.3731343283582089,
          null,
          0.3731343283582089,
          0.8706467661691543,
          null,
          0.5472636815920398,
          0.9676616915422885,
          null
         ]
        },
        {
         "hoverinfo": "text",
         "marker": {
          "color": "rgb(255, 255, 255)",
          "line": {
           "color": "rgb(0, 0, 0)",
           "width": 2
          },
          "size": 20
         },
         "mode": "markers",
         "text": [
          "Rogerio",
          "Roberto",
          "Renato",
          "Larissa",
          "Jorge",
          "Sueli",
          "Conrado",
          "Ricardo",
          "Pamela",
          "Fabio",
          "Paulo",
          "William",
          "Tiago",
          "Sandra",
          "Patrick",
          "Jose",
          "Caio"
         ],
         "textfont": {
          "color": "rgb(0, 0, 0)"
         },
         "textposition": "middle center",
         "type": "scatter",
         "uid": "d82ee23d-a243-11e8-8842-5cc9d35576a8",
         "x": [
          0.4963144963144963,
          0.3022113022113022,
          0.15233415233415235,
          0.05405405405405406,
          0,
          0.009828009828009828,
          0.10319410319410319,
          0.25061425061425063,
          0.4004914004914005,
          0.597051597051597,
          0.742014742014742,
          0.9115479115479116,
          0.9877149877149877,
          1,
          0.941031941031941,
          0.8304668304668305,
          0.6953316953316954
         ],
         "y": [
          1,
          0.9701492537313433,
          0.8731343283582089,
          0.7213930348258706,
          0.5447761194029851,
          0.37064676616915426,
          0.20149253731343286,
          0.07213930348258701,
          0,
          0,
          0.07462686567164178,
          0.20149253731343286,
          0.3731343283582089,
          0.5472636815920398,
          0.7238805970149254,
          0.8706467661691543,
          0.9676616915422885
         ]
        }
       ],
       "layout": {
        "height": 450,
        "margin": {
         "b": 0,
         "l": 0,
         "r": 0,
         "t": 0
        },
        "showlegend": false,
        "width": 450,
        "xaxis": {
         "showgrid": false,
         "showticklabels": false,
         "zeroline": false
        },
        "yaxis": {
         "showgrid": false,
         "showticklabels": false,
         "zeroline": false
        }
       }
      },
      "text/html": [
       "<div id=\"e1bc95fe-1eee-43ed-b894-25d85ddd5857\" style=\"height: 450px; width: 450px;\" class=\"plotly-graph-div\"></div><script type=\"text/javascript\">require([\"plotly\"], function(Plotly) { window.PLOTLYENV=window.PLOTLYENV || {};window.PLOTLYENV.BASE_URL=\"https://plot.ly\";Plotly.newPlot(\"e1bc95fe-1eee-43ed-b894-25d85ddd5857\", [{\"hoverinfo\": \"none\", \"line\": {\"color\": \"rgb(0, 0, 0)\", \"width\": 2}, \"mode\": \"lines\", \"x\": [0.4963144963144963, 0.05405405405405406, null, 0.4963144963144963, 0.10319410319410319, null, 0.4963144963144963, 0.25061425061425063, null, 0.4963144963144963, 0.9115479115479116, null, 0.4963144963144963, 0.9877149877149877, null, 0.4963144963144963, 0.941031941031941, null, 0.4963144963144963, 0.8304668304668305, null, 0.3022113022113022, 0.009828009828009828, null, 0.3022113022113022, 0.10319410319410319, null, 0.3022113022113022, 0.4004914004914005, null, 0.3022113022113022, 0.742014742014742, null, 0.3022113022113022, 1.0, null, 0.15233415233415235, 0.6953316953316954, null, 0.15233415233415235, 1.0, null, 0.15233415233415235, 0.742014742014742, null, 0.05405405405405406, 0.8304668304668305, null, 0.05405405405405406, 0.941031941031941, null, 0.05405405405405406, 0.9877149877149877, null, 0.05405405405405406, 0.9115479115479116, null, 0.05405405405405406, 0.597051597051597, null, 0.05405405405405406, 0.25061425061425063, null, 0.05405405405405406, 0.0, null, 0.0, 0.597051597051597, null, 0.0, 0.25061425061425063, null, 0.009828009828009828, 0.6953316953316954, null, 0.009828009828009828, 1.0, null, 0.009828009828009828, 0.742014742014742, null, 0.009828009828009828, 0.4004914004914005, null, 0.10319410319410319, 0.9115479115479116, null, 0.10319410319410319, 0.742014742014742, null, 0.25061425061425063, 0.8304668304668305, null, 0.25061425061425063, 0.9877149877149877, null, 0.25061425061425063, 0.9115479115479116, null, 0.4004914004914005, 1.0, null, 0.597051597051597, 0.9877149877149877, null, 0.742014742014742, 0.6953316953316954, null, 0.742014742014742, 1.0, null, 0.9115479115479116, 0.941031941031941, null, 0.9115479115479116, 0.9877149877149877, null, 0.9877149877149877, 0.8304668304668305, null, 1.0, 0.6953316953316954, null], \"y\": [1.0, 0.7213930348258706, null, 1.0, 0.20149253731343286, null, 1.0, 0.07213930348258701, null, 1.0, 0.20149253731343286, null, 1.0, 0.3731343283582089, null, 1.0, 0.7238805970149254, null, 1.0, 0.8706467661691543, null, 0.9701492537313433, 0.37064676616915426, null, 0.9701492537313433, 0.20149253731343286, null, 0.9701492537313433, 0.0, null, 0.9701492537313433, 0.07462686567164178, null, 0.9701492537313433, 0.5472636815920398, null, 0.8731343283582089, 0.9676616915422885, null, 0.8731343283582089, 0.5472636815920398, null, 0.8731343283582089, 0.07462686567164178, null, 0.7213930348258706, 0.8706467661691543, null, 0.7213930348258706, 0.7238805970149254, null, 0.7213930348258706, 0.3731343283582089, null, 0.7213930348258706, 0.20149253731343286, null, 0.7213930348258706, 0.0, null, 0.7213930348258706, 0.07213930348258701, null, 0.7213930348258706, 0.5447761194029851, null, 0.5447761194029851, 0.0, null, 0.5447761194029851, 0.07213930348258701, null, 0.37064676616915426, 0.9676616915422885, null, 0.37064676616915426, 0.5472636815920398, null, 0.37064676616915426, 0.07462686567164178, null, 0.37064676616915426, 0.0, null, 0.20149253731343286, 0.20149253731343286, null, 0.20149253731343286, 0.07462686567164178, null, 0.07213930348258701, 0.8706467661691543, null, 0.07213930348258701, 0.3731343283582089, null, 0.07213930348258701, 0.20149253731343286, null, 0.0, 0.5472636815920398, null, 0.0, 0.3731343283582089, null, 0.07462686567164178, 0.9676616915422885, null, 0.07462686567164178, 0.5472636815920398, null, 0.20149253731343286, 0.7238805970149254, null, 0.20149253731343286, 0.3731343283582089, null, 0.3731343283582089, 0.8706467661691543, null, 0.5472636815920398, 0.9676616915422885, null], \"type\": \"scatter\", \"uid\": \"d82ee23e-a243-11e8-8842-5cc9d35576a8\"}, {\"hoverinfo\": \"text\", \"marker\": {\"color\": \"rgb(255, 255, 255)\", \"line\": {\"color\": \"rgb(0, 0, 0)\", \"width\": 2}, \"size\": 20}, \"mode\": \"markers\", \"text\": [\"Rogerio\", \"Roberto\", \"Renato\", \"Larissa\", \"Jorge\", \"Sueli\", \"Conrado\", \"Ricardo\", \"Pamela\", \"Fabio\", \"Paulo\", \"William\", \"Tiago\", \"Sandra\", \"Patrick\", \"Jose\", \"Caio\"], \"textfont\": {\"color\": \"rgb(0, 0, 0)\"}, \"textposition\": \"middle center\", \"x\": [0.4963144963144963, 0.3022113022113022, 0.15233415233415235, 0.05405405405405406, 0.0, 0.009828009828009828, 0.10319410319410319, 0.25061425061425063, 0.4004914004914005, 0.597051597051597, 0.742014742014742, 0.9115479115479116, 0.9877149877149877, 1.0, 0.941031941031941, 0.8304668304668305, 0.6953316953316954], \"y\": [1.0, 0.9701492537313433, 0.8731343283582089, 0.7213930348258706, 0.5447761194029851, 0.37064676616915426, 0.20149253731343286, 0.07213930348258701, 0.0, 0.0, 0.07462686567164178, 0.20149253731343286, 0.3731343283582089, 0.5472636815920398, 0.7238805970149254, 0.8706467661691543, 0.9676616915422885], \"type\": \"scatter\", \"uid\": \"d82ee23f-a243-11e8-8842-5cc9d35576a8\"}], {\"height\": 450, \"margin\": {\"b\": 0, \"l\": 0, \"r\": 0, \"t\": 0}, \"showlegend\": false, \"width\": 450, \"xaxis\": {\"showgrid\": false, \"showticklabels\": false, \"zeroline\": false}, \"yaxis\": {\"showgrid\": false, \"showticklabels\": false, \"zeroline\": false}}, {\"showLink\": false, \"linkText\": \"Export to plot.ly\", \"displayModeBar\": false})});</script>"
      ],
      "text/vnd.plotly.v1+html": [
       "<div id=\"e1bc95fe-1eee-43ed-b894-25d85ddd5857\" style=\"height: 450px; width: 450px;\" class=\"plotly-graph-div\"></div><script type=\"text/javascript\">require([\"plotly\"], function(Plotly) { window.PLOTLYENV=window.PLOTLYENV || {};window.PLOTLYENV.BASE_URL=\"https://plot.ly\";Plotly.newPlot(\"e1bc95fe-1eee-43ed-b894-25d85ddd5857\", [{\"hoverinfo\": \"none\", \"line\": {\"color\": \"rgb(0, 0, 0)\", \"width\": 2}, \"mode\": \"lines\", \"x\": [0.4963144963144963, 0.05405405405405406, null, 0.4963144963144963, 0.10319410319410319, null, 0.4963144963144963, 0.25061425061425063, null, 0.4963144963144963, 0.9115479115479116, null, 0.4963144963144963, 0.9877149877149877, null, 0.4963144963144963, 0.941031941031941, null, 0.4963144963144963, 0.8304668304668305, null, 0.3022113022113022, 0.009828009828009828, null, 0.3022113022113022, 0.10319410319410319, null, 0.3022113022113022, 0.4004914004914005, null, 0.3022113022113022, 0.742014742014742, null, 0.3022113022113022, 1.0, null, 0.15233415233415235, 0.6953316953316954, null, 0.15233415233415235, 1.0, null, 0.15233415233415235, 0.742014742014742, null, 0.05405405405405406, 0.8304668304668305, null, 0.05405405405405406, 0.941031941031941, null, 0.05405405405405406, 0.9877149877149877, null, 0.05405405405405406, 0.9115479115479116, null, 0.05405405405405406, 0.597051597051597, null, 0.05405405405405406, 0.25061425061425063, null, 0.05405405405405406, 0.0, null, 0.0, 0.597051597051597, null, 0.0, 0.25061425061425063, null, 0.009828009828009828, 0.6953316953316954, null, 0.009828009828009828, 1.0, null, 0.009828009828009828, 0.742014742014742, null, 0.009828009828009828, 0.4004914004914005, null, 0.10319410319410319, 0.9115479115479116, null, 0.10319410319410319, 0.742014742014742, null, 0.25061425061425063, 0.8304668304668305, null, 0.25061425061425063, 0.9877149877149877, null, 0.25061425061425063, 0.9115479115479116, null, 0.4004914004914005, 1.0, null, 0.597051597051597, 0.9877149877149877, null, 0.742014742014742, 0.6953316953316954, null, 0.742014742014742, 1.0, null, 0.9115479115479116, 0.941031941031941, null, 0.9115479115479116, 0.9877149877149877, null, 0.9877149877149877, 0.8304668304668305, null, 1.0, 0.6953316953316954, null], \"y\": [1.0, 0.7213930348258706, null, 1.0, 0.20149253731343286, null, 1.0, 0.07213930348258701, null, 1.0, 0.20149253731343286, null, 1.0, 0.3731343283582089, null, 1.0, 0.7238805970149254, null, 1.0, 0.8706467661691543, null, 0.9701492537313433, 0.37064676616915426, null, 0.9701492537313433, 0.20149253731343286, null, 0.9701492537313433, 0.0, null, 0.9701492537313433, 0.07462686567164178, null, 0.9701492537313433, 0.5472636815920398, null, 0.8731343283582089, 0.9676616915422885, null, 0.8731343283582089, 0.5472636815920398, null, 0.8731343283582089, 0.07462686567164178, null, 0.7213930348258706, 0.8706467661691543, null, 0.7213930348258706, 0.7238805970149254, null, 0.7213930348258706, 0.3731343283582089, null, 0.7213930348258706, 0.20149253731343286, null, 0.7213930348258706, 0.0, null, 0.7213930348258706, 0.07213930348258701, null, 0.7213930348258706, 0.5447761194029851, null, 0.5447761194029851, 0.0, null, 0.5447761194029851, 0.07213930348258701, null, 0.37064676616915426, 0.9676616915422885, null, 0.37064676616915426, 0.5472636815920398, null, 0.37064676616915426, 0.07462686567164178, null, 0.37064676616915426, 0.0, null, 0.20149253731343286, 0.20149253731343286, null, 0.20149253731343286, 0.07462686567164178, null, 0.07213930348258701, 0.8706467661691543, null, 0.07213930348258701, 0.3731343283582089, null, 0.07213930348258701, 0.20149253731343286, null, 0.0, 0.5472636815920398, null, 0.0, 0.3731343283582089, null, 0.07462686567164178, 0.9676616915422885, null, 0.07462686567164178, 0.5472636815920398, null, 0.20149253731343286, 0.7238805970149254, null, 0.20149253731343286, 0.3731343283582089, null, 0.3731343283582089, 0.8706467661691543, null, 0.5472636815920398, 0.9676616915422885, null], \"type\": \"scatter\", \"uid\": \"d82ee23e-a243-11e8-8842-5cc9d35576a8\"}, {\"hoverinfo\": \"text\", \"marker\": {\"color\": \"rgb(255, 255, 255)\", \"line\": {\"color\": \"rgb(0, 0, 0)\", \"width\": 2}, \"size\": 20}, \"mode\": \"markers\", \"text\": [\"Rogerio\", \"Roberto\", \"Renato\", \"Larissa\", \"Jorge\", \"Sueli\", \"Conrado\", \"Ricardo\", \"Pamela\", \"Fabio\", \"Paulo\", \"William\", \"Tiago\", \"Sandra\", \"Patrick\", \"Jose\", \"Caio\"], \"textfont\": {\"color\": \"rgb(0, 0, 0)\"}, \"textposition\": \"middle center\", \"x\": [0.4963144963144963, 0.3022113022113022, 0.15233415233415235, 0.05405405405405406, 0.0, 0.009828009828009828, 0.10319410319410319, 0.25061425061425063, 0.4004914004914005, 0.597051597051597, 0.742014742014742, 0.9115479115479116, 0.9877149877149877, 1.0, 0.941031941031941, 0.8304668304668305, 0.6953316953316954], \"y\": [1.0, 0.9701492537313433, 0.8731343283582089, 0.7213930348258706, 0.5447761194029851, 0.37064676616915426, 0.20149253731343286, 0.07213930348258701, 0.0, 0.0, 0.07462686567164178, 0.20149253731343286, 0.3731343283582089, 0.5472636815920398, 0.7238805970149254, 0.8706467661691543, 0.9676616915422885], \"type\": \"scatter\", \"uid\": \"d82ee23f-a243-11e8-8842-5cc9d35576a8\"}], {\"height\": 450, \"margin\": {\"b\": 0, \"l\": 0, \"r\": 0, \"t\": 0}, \"showlegend\": false, \"width\": 450, \"xaxis\": {\"showgrid\": false, \"showticklabels\": false, \"zeroline\": false}, \"yaxis\": {\"showgrid\": false, \"showticklabels\": false, \"zeroline\": false}}, {\"showLink\": false, \"linkText\": \"Export to plot.ly\", \"displayModeBar\": false})});</script>"
      ]
     },
     "metadata": {},
     "output_type": "display_data"
    }
   ],
   "source": [
    "sn.graph_width = 450\n",
    "sn.graph_height = 450\n",
    "\n",
    "sn.node_label_position = 'hover' # easter egg!\n",
    "\n",
    "g = sn.load_graph('1-introducao.gml', has_pos=True)\n",
    "\n",
    "sn.show_graph(g, nlab=True)"
   ]
  },
  {
   "cell_type": "markdown",
   "metadata": {},
   "source": [
    "Usamos o argumento `has_pos` para indicar que os atributos `x` e `y` devem ser usados para posicionar os nós. Esse argumento é `False` por padrão, pois nem todo arquivo atribui essas coordenadas.\n",
    "\n",
    "Se elas não forem usadas, a visualização usa um tipo de [force-directed graph drawing](https://en.wikipedia.org/wiki/Force-directed_graph_drawing)."
   ]
  },
  {
   "cell_type": "code",
   "execution_count": 24,
   "metadata": {},
   "outputs": [
    {
     "data": {
      "application/vnd.plotly.v1+json": {
       "data": [
        {
         "hoverinfo": "none",
         "line": {
          "color": "rgb(0, 0, 0)",
          "width": 2
         },
         "mode": "lines",
         "type": "scatter",
         "uid": "be661bda-a244-11e8-8842-5cc9d35576a8",
         "x": [
          0.3683486622196099,
          0.17624503367731828,
          null,
          0.3683486622196099,
          0.5534983827214589,
          null,
          0.3683486622196099,
          0.19600192623830798,
          null,
          0.3683486622196099,
          0.33838072022036947,
          null,
          0.3683486622196099,
          0.23705239359048866,
          null,
          0.3683486622196099,
          0.4052864493120807,
          null,
          0.3683486622196099,
          0.28298399707798233,
          null,
          0.7950965751485727,
          0.8754464848989891,
          null,
          0.7950965751485727,
          0.5534983827214589,
          null,
          0.7950965751485727,
          1,
          null,
          0.7950965751485727,
          0.7008278682085721,
          null,
          0.7950965751485727,
          0.852392455371559,
          null,
          0.7274597469317904,
          0.7689302012018051,
          null,
          0.7274597469317904,
          0.852392455371559,
          null,
          0.7274597469317904,
          0.7008278682085721,
          null,
          0.17624503367731828,
          0.28298399707798233,
          null,
          0.17624503367731828,
          0.4052864493120807,
          null,
          0.17624503367731828,
          0.23705239359048866,
          null,
          0.17624503367731828,
          0.33838072022036947,
          null,
          0.17624503367731828,
          0.002600690790659768,
          null,
          0.17624503367731828,
          0.19600192623830798,
          null,
          0.17624503367731828,
          0,
          null,
          0,
          0.002600690790659768,
          null,
          0,
          0.19600192623830798,
          null,
          0.8754464848989891,
          0.7689302012018051,
          null,
          0.8754464848989891,
          0.852392455371559,
          null,
          0.8754464848989891,
          0.7008278682085721,
          null,
          0.8754464848989891,
          1,
          null,
          0.5534983827214589,
          0.33838072022036947,
          null,
          0.5534983827214589,
          0.7008278682085721,
          null,
          0.19600192623830798,
          0.28298399707798233,
          null,
          0.19600192623830798,
          0.23705239359048866,
          null,
          0.19600192623830798,
          0.33838072022036947,
          null,
          1,
          0.852392455371559,
          null,
          0.002600690790659768,
          0.23705239359048866,
          null,
          0.7008278682085721,
          0.7689302012018051,
          null,
          0.7008278682085721,
          0.852392455371559,
          null,
          0.33838072022036947,
          0.4052864493120807,
          null,
          0.33838072022036947,
          0.23705239359048866,
          null,
          0.23705239359048866,
          0.28298399707798233,
          null,
          0.852392455371559,
          0.7689302012018051,
          null
         ],
         "y": [
          0.1905917907507374,
          0.13717964675832472,
          null,
          0.1905917907507374,
          0.47325733128274455,
          null,
          0.1905917907507374,
          0.06267399494362595,
          null,
          0.1905917907507374,
          0.25974199718028734,
          null,
          0.1905917907507374,
          0.14545587997611434,
          null,
          0.1905917907507374,
          0.09166140780035172,
          null,
          0.1905917907507374,
          0,
          null,
          0.6657587590401964,
          0.7855334187794764,
          null,
          0.6657587590401964,
          0.47325733128274455,
          null,
          0.6657587590401964,
          0.7604608827179012,
          null,
          0.6657587590401964,
          0.7680861269847555,
          null,
          0.6657587590401964,
          0.8654316191489125,
          null,
          1,
          0.9232198778617856,
          null,
          1,
          0.8654316191489125,
          null,
          1,
          0.7680861269847555,
          null,
          0.13717964675832472,
          0,
          null,
          0.13717964675832472,
          0.09166140780035172,
          null,
          0.13717964675832472,
          0.14545587997611434,
          null,
          0.13717964675832472,
          0.25974199718028734,
          null,
          0.13717964675832472,
          0.1418822967752013,
          null,
          0.13717964675832472,
          0.06267399494362595,
          null,
          0.13717964675832472,
          0.018912102628694572,
          null,
          0.018912102628694572,
          0.1418822967752013,
          null,
          0.018912102628694572,
          0.06267399494362595,
          null,
          0.7855334187794764,
          0.9232198778617856,
          null,
          0.7855334187794764,
          0.8654316191489125,
          null,
          0.7855334187794764,
          0.7680861269847555,
          null,
          0.7855334187794764,
          0.7604608827179012,
          null,
          0.47325733128274455,
          0.25974199718028734,
          null,
          0.47325733128274455,
          0.7680861269847555,
          null,
          0.06267399494362595,
          0,
          null,
          0.06267399494362595,
          0.14545587997611434,
          null,
          0.06267399494362595,
          0.25974199718028734,
          null,
          0.7604608827179012,
          0.8654316191489125,
          null,
          0.1418822967752013,
          0.14545587997611434,
          null,
          0.7680861269847555,
          0.9232198778617856,
          null,
          0.7680861269847555,
          0.8654316191489125,
          null,
          0.25974199718028734,
          0.09166140780035172,
          null,
          0.25974199718028734,
          0.14545587997611434,
          null,
          0.14545587997611434,
          0,
          null,
          0.8654316191489125,
          0.9232198778617856,
          null
         ]
        },
        {
         "hoverinfo": "text",
         "marker": {
          "color": "rgb(255, 255, 255)",
          "line": {
           "color": "rgb(0, 0, 0)",
           "width": 2
          },
          "size": 20
         },
         "mode": "markers",
         "text": [
          "Rogerio",
          "Roberto",
          "Renato",
          "Larissa",
          "Jorge",
          "Sueli",
          "Conrado",
          "Ricardo",
          "Pamela",
          "Fabio",
          "Paulo",
          "William",
          "Tiago",
          "Sandra",
          "Patrick",
          "Jose",
          "Caio"
         ],
         "textfont": {
          "color": "rgb(0, 0, 0)"
         },
         "textposition": "middle center",
         "type": "scatter",
         "uid": "be661bdb-a244-11e8-8842-5cc9d35576a8",
         "x": [
          0.3683486622196099,
          0.7950965751485727,
          0.7274597469317904,
          0.17624503367731828,
          0,
          0.8754464848989891,
          0.5534983827214589,
          0.19600192623830798,
          1,
          0.002600690790659768,
          0.7008278682085721,
          0.33838072022036947,
          0.23705239359048866,
          0.852392455371559,
          0.4052864493120807,
          0.28298399707798233,
          0.7689302012018051
         ],
         "y": [
          0.1905917907507374,
          0.6657587590401964,
          1,
          0.13717964675832472,
          0.018912102628694572,
          0.7855334187794764,
          0.47325733128274455,
          0.06267399494362595,
          0.7604608827179012,
          0.1418822967752013,
          0.7680861269847555,
          0.25974199718028734,
          0.14545587997611434,
          0.8654316191489125,
          0.09166140780035172,
          0,
          0.9232198778617856
         ]
        }
       ],
       "layout": {
        "height": 450,
        "margin": {
         "b": 0,
         "l": 0,
         "r": 0,
         "t": 0
        },
        "showlegend": false,
        "width": 450,
        "xaxis": {
         "showgrid": false,
         "showticklabels": false,
         "zeroline": false
        },
        "yaxis": {
         "showgrid": false,
         "showticklabels": false,
         "zeroline": false
        }
       }
      },
      "text/html": [
       "<div id=\"259d355c-8ca8-4072-b0c7-9d03f3db00b1\" style=\"height: 450px; width: 450px;\" class=\"plotly-graph-div\"></div><script type=\"text/javascript\">require([\"plotly\"], function(Plotly) { window.PLOTLYENV=window.PLOTLYENV || {};window.PLOTLYENV.BASE_URL=\"https://plot.ly\";Plotly.newPlot(\"259d355c-8ca8-4072-b0c7-9d03f3db00b1\", [{\"hoverinfo\": \"none\", \"line\": {\"color\": \"rgb(0, 0, 0)\", \"width\": 2}, \"mode\": \"lines\", \"x\": [0.3683486622196099, 0.17624503367731828, null, 0.3683486622196099, 0.5534983827214589, null, 0.3683486622196099, 0.19600192623830798, null, 0.3683486622196099, 0.33838072022036947, null, 0.3683486622196099, 0.23705239359048866, null, 0.3683486622196099, 0.4052864493120807, null, 0.3683486622196099, 0.28298399707798233, null, 0.7950965751485727, 0.8754464848989891, null, 0.7950965751485727, 0.5534983827214589, null, 0.7950965751485727, 1.0, null, 0.7950965751485727, 0.7008278682085721, null, 0.7950965751485727, 0.852392455371559, null, 0.7274597469317904, 0.7689302012018051, null, 0.7274597469317904, 0.852392455371559, null, 0.7274597469317904, 0.7008278682085721, null, 0.17624503367731828, 0.28298399707798233, null, 0.17624503367731828, 0.4052864493120807, null, 0.17624503367731828, 0.23705239359048866, null, 0.17624503367731828, 0.33838072022036947, null, 0.17624503367731828, 0.002600690790659768, null, 0.17624503367731828, 0.19600192623830798, null, 0.17624503367731828, 0.0, null, 0.0, 0.002600690790659768, null, 0.0, 0.19600192623830798, null, 0.8754464848989891, 0.7689302012018051, null, 0.8754464848989891, 0.852392455371559, null, 0.8754464848989891, 0.7008278682085721, null, 0.8754464848989891, 1.0, null, 0.5534983827214589, 0.33838072022036947, null, 0.5534983827214589, 0.7008278682085721, null, 0.19600192623830798, 0.28298399707798233, null, 0.19600192623830798, 0.23705239359048866, null, 0.19600192623830798, 0.33838072022036947, null, 1.0, 0.852392455371559, null, 0.002600690790659768, 0.23705239359048866, null, 0.7008278682085721, 0.7689302012018051, null, 0.7008278682085721, 0.852392455371559, null, 0.33838072022036947, 0.4052864493120807, null, 0.33838072022036947, 0.23705239359048866, null, 0.23705239359048866, 0.28298399707798233, null, 0.852392455371559, 0.7689302012018051, null], \"y\": [0.1905917907507374, 0.13717964675832472, null, 0.1905917907507374, 0.47325733128274455, null, 0.1905917907507374, 0.06267399494362595, null, 0.1905917907507374, 0.25974199718028734, null, 0.1905917907507374, 0.14545587997611434, null, 0.1905917907507374, 0.09166140780035172, null, 0.1905917907507374, 0.0, null, 0.6657587590401964, 0.7855334187794764, null, 0.6657587590401964, 0.47325733128274455, null, 0.6657587590401964, 0.7604608827179012, null, 0.6657587590401964, 0.7680861269847555, null, 0.6657587590401964, 0.8654316191489125, null, 1.0, 0.9232198778617856, null, 1.0, 0.8654316191489125, null, 1.0, 0.7680861269847555, null, 0.13717964675832472, 0.0, null, 0.13717964675832472, 0.09166140780035172, null, 0.13717964675832472, 0.14545587997611434, null, 0.13717964675832472, 0.25974199718028734, null, 0.13717964675832472, 0.1418822967752013, null, 0.13717964675832472, 0.06267399494362595, null, 0.13717964675832472, 0.018912102628694572, null, 0.018912102628694572, 0.1418822967752013, null, 0.018912102628694572, 0.06267399494362595, null, 0.7855334187794764, 0.9232198778617856, null, 0.7855334187794764, 0.8654316191489125, null, 0.7855334187794764, 0.7680861269847555, null, 0.7855334187794764, 0.7604608827179012, null, 0.47325733128274455, 0.25974199718028734, null, 0.47325733128274455, 0.7680861269847555, null, 0.06267399494362595, 0.0, null, 0.06267399494362595, 0.14545587997611434, null, 0.06267399494362595, 0.25974199718028734, null, 0.7604608827179012, 0.8654316191489125, null, 0.1418822967752013, 0.14545587997611434, null, 0.7680861269847555, 0.9232198778617856, null, 0.7680861269847555, 0.8654316191489125, null, 0.25974199718028734, 0.09166140780035172, null, 0.25974199718028734, 0.14545587997611434, null, 0.14545587997611434, 0.0, null, 0.8654316191489125, 0.9232198778617856, null], \"type\": \"scatter\", \"uid\": \"be661bdc-a244-11e8-8842-5cc9d35576a8\"}, {\"hoverinfo\": \"text\", \"marker\": {\"color\": \"rgb(255, 255, 255)\", \"line\": {\"color\": \"rgb(0, 0, 0)\", \"width\": 2}, \"size\": 20}, \"mode\": \"markers\", \"text\": [\"Rogerio\", \"Roberto\", \"Renato\", \"Larissa\", \"Jorge\", \"Sueli\", \"Conrado\", \"Ricardo\", \"Pamela\", \"Fabio\", \"Paulo\", \"William\", \"Tiago\", \"Sandra\", \"Patrick\", \"Jose\", \"Caio\"], \"textfont\": {\"color\": \"rgb(0, 0, 0)\"}, \"textposition\": \"middle center\", \"x\": [0.3683486622196099, 0.7950965751485727, 0.7274597469317904, 0.17624503367731828, 0.0, 0.8754464848989891, 0.5534983827214589, 0.19600192623830798, 1.0, 0.002600690790659768, 0.7008278682085721, 0.33838072022036947, 0.23705239359048866, 0.852392455371559, 0.4052864493120807, 0.28298399707798233, 0.7689302012018051], \"y\": [0.1905917907507374, 0.6657587590401964, 1.0, 0.13717964675832472, 0.018912102628694572, 0.7855334187794764, 0.47325733128274455, 0.06267399494362595, 0.7604608827179012, 0.1418822967752013, 0.7680861269847555, 0.25974199718028734, 0.14545587997611434, 0.8654316191489125, 0.09166140780035172, 0.0, 0.9232198778617856], \"type\": \"scatter\", \"uid\": \"be661bdd-a244-11e8-8842-5cc9d35576a8\"}], {\"height\": 450, \"margin\": {\"b\": 0, \"l\": 0, \"r\": 0, \"t\": 0}, \"showlegend\": false, \"width\": 450, \"xaxis\": {\"showgrid\": false, \"showticklabels\": false, \"zeroline\": false}, \"yaxis\": {\"showgrid\": false, \"showticklabels\": false, \"zeroline\": false}}, {\"showLink\": false, \"linkText\": \"Export to plot.ly\", \"displayModeBar\": false})});</script>"
      ],
      "text/vnd.plotly.v1+html": [
       "<div id=\"259d355c-8ca8-4072-b0c7-9d03f3db00b1\" style=\"height: 450px; width: 450px;\" class=\"plotly-graph-div\"></div><script type=\"text/javascript\">require([\"plotly\"], function(Plotly) { window.PLOTLYENV=window.PLOTLYENV || {};window.PLOTLYENV.BASE_URL=\"https://plot.ly\";Plotly.newPlot(\"259d355c-8ca8-4072-b0c7-9d03f3db00b1\", [{\"hoverinfo\": \"none\", \"line\": {\"color\": \"rgb(0, 0, 0)\", \"width\": 2}, \"mode\": \"lines\", \"x\": [0.3683486622196099, 0.17624503367731828, null, 0.3683486622196099, 0.5534983827214589, null, 0.3683486622196099, 0.19600192623830798, null, 0.3683486622196099, 0.33838072022036947, null, 0.3683486622196099, 0.23705239359048866, null, 0.3683486622196099, 0.4052864493120807, null, 0.3683486622196099, 0.28298399707798233, null, 0.7950965751485727, 0.8754464848989891, null, 0.7950965751485727, 0.5534983827214589, null, 0.7950965751485727, 1.0, null, 0.7950965751485727, 0.7008278682085721, null, 0.7950965751485727, 0.852392455371559, null, 0.7274597469317904, 0.7689302012018051, null, 0.7274597469317904, 0.852392455371559, null, 0.7274597469317904, 0.7008278682085721, null, 0.17624503367731828, 0.28298399707798233, null, 0.17624503367731828, 0.4052864493120807, null, 0.17624503367731828, 0.23705239359048866, null, 0.17624503367731828, 0.33838072022036947, null, 0.17624503367731828, 0.002600690790659768, null, 0.17624503367731828, 0.19600192623830798, null, 0.17624503367731828, 0.0, null, 0.0, 0.002600690790659768, null, 0.0, 0.19600192623830798, null, 0.8754464848989891, 0.7689302012018051, null, 0.8754464848989891, 0.852392455371559, null, 0.8754464848989891, 0.7008278682085721, null, 0.8754464848989891, 1.0, null, 0.5534983827214589, 0.33838072022036947, null, 0.5534983827214589, 0.7008278682085721, null, 0.19600192623830798, 0.28298399707798233, null, 0.19600192623830798, 0.23705239359048866, null, 0.19600192623830798, 0.33838072022036947, null, 1.0, 0.852392455371559, null, 0.002600690790659768, 0.23705239359048866, null, 0.7008278682085721, 0.7689302012018051, null, 0.7008278682085721, 0.852392455371559, null, 0.33838072022036947, 0.4052864493120807, null, 0.33838072022036947, 0.23705239359048866, null, 0.23705239359048866, 0.28298399707798233, null, 0.852392455371559, 0.7689302012018051, null], \"y\": [0.1905917907507374, 0.13717964675832472, null, 0.1905917907507374, 0.47325733128274455, null, 0.1905917907507374, 0.06267399494362595, null, 0.1905917907507374, 0.25974199718028734, null, 0.1905917907507374, 0.14545587997611434, null, 0.1905917907507374, 0.09166140780035172, null, 0.1905917907507374, 0.0, null, 0.6657587590401964, 0.7855334187794764, null, 0.6657587590401964, 0.47325733128274455, null, 0.6657587590401964, 0.7604608827179012, null, 0.6657587590401964, 0.7680861269847555, null, 0.6657587590401964, 0.8654316191489125, null, 1.0, 0.9232198778617856, null, 1.0, 0.8654316191489125, null, 1.0, 0.7680861269847555, null, 0.13717964675832472, 0.0, null, 0.13717964675832472, 0.09166140780035172, null, 0.13717964675832472, 0.14545587997611434, null, 0.13717964675832472, 0.25974199718028734, null, 0.13717964675832472, 0.1418822967752013, null, 0.13717964675832472, 0.06267399494362595, null, 0.13717964675832472, 0.018912102628694572, null, 0.018912102628694572, 0.1418822967752013, null, 0.018912102628694572, 0.06267399494362595, null, 0.7855334187794764, 0.9232198778617856, null, 0.7855334187794764, 0.8654316191489125, null, 0.7855334187794764, 0.7680861269847555, null, 0.7855334187794764, 0.7604608827179012, null, 0.47325733128274455, 0.25974199718028734, null, 0.47325733128274455, 0.7680861269847555, null, 0.06267399494362595, 0.0, null, 0.06267399494362595, 0.14545587997611434, null, 0.06267399494362595, 0.25974199718028734, null, 0.7604608827179012, 0.8654316191489125, null, 0.1418822967752013, 0.14545587997611434, null, 0.7680861269847555, 0.9232198778617856, null, 0.7680861269847555, 0.8654316191489125, null, 0.25974199718028734, 0.09166140780035172, null, 0.25974199718028734, 0.14545587997611434, null, 0.14545587997611434, 0.0, null, 0.8654316191489125, 0.9232198778617856, null], \"type\": \"scatter\", \"uid\": \"be661bdc-a244-11e8-8842-5cc9d35576a8\"}, {\"hoverinfo\": \"text\", \"marker\": {\"color\": \"rgb(255, 255, 255)\", \"line\": {\"color\": \"rgb(0, 0, 0)\", \"width\": 2}, \"size\": 20}, \"mode\": \"markers\", \"text\": [\"Rogerio\", \"Roberto\", \"Renato\", \"Larissa\", \"Jorge\", \"Sueli\", \"Conrado\", \"Ricardo\", \"Pamela\", \"Fabio\", \"Paulo\", \"William\", \"Tiago\", \"Sandra\", \"Patrick\", \"Jose\", \"Caio\"], \"textfont\": {\"color\": \"rgb(0, 0, 0)\"}, \"textposition\": \"middle center\", \"x\": [0.3683486622196099, 0.7950965751485727, 0.7274597469317904, 0.17624503367731828, 0.0, 0.8754464848989891, 0.5534983827214589, 0.19600192623830798, 1.0, 0.002600690790659768, 0.7008278682085721, 0.33838072022036947, 0.23705239359048866, 0.852392455371559, 0.4052864493120807, 0.28298399707798233, 0.7689302012018051], \"y\": [0.1905917907507374, 0.6657587590401964, 1.0, 0.13717964675832472, 0.018912102628694572, 0.7855334187794764, 0.47325733128274455, 0.06267399494362595, 0.7604608827179012, 0.1418822967752013, 0.7680861269847555, 0.25974199718028734, 0.14545587997611434, 0.8654316191489125, 0.09166140780035172, 0.0, 0.9232198778617856], \"type\": \"scatter\", \"uid\": \"be661bdd-a244-11e8-8842-5cc9d35576a8\"}], {\"height\": 450, \"margin\": {\"b\": 0, \"l\": 0, \"r\": 0, \"t\": 0}, \"showlegend\": false, \"width\": 450, \"xaxis\": {\"showgrid\": false, \"showticklabels\": false, \"zeroline\": false}, \"yaxis\": {\"showgrid\": false, \"showticklabels\": false, \"zeroline\": false}}, {\"showLink\": false, \"linkText\": \"Export to plot.ly\", \"displayModeBar\": false})});</script>"
      ]
     },
     "metadata": {},
     "output_type": "display_data"
    }
   ],
   "source": [
    "g = sn.load_graph('1-introducao.gml')\n",
    "\n",
    "sn.show_graph(g, nlab=True)"
   ]
  },
  {
   "cell_type": "markdown",
   "metadata": {},
   "source": [
    "É possível observar, dessa forma, a importância do Conrado, o que não era possível antes. Se retirarmos o COnrado a rede será quebrada em duas. Diferente de retirar qlqr outra pessoa da rede, nesse caso a rede não quebraria."
   ]
  },
  {
   "cell_type": "code",
   "execution_count": null,
   "metadata": {},
   "outputs": [],
   "source": []
  }
 ],
 "metadata": {
  "kernelspec": {
   "display_name": "Python 3",
   "language": "python",
   "name": "python3"
  },
  "language_info": {
   "codemirror_mode": {
    "name": "ipython",
    "version": 3
   },
   "file_extension": ".py",
   "mimetype": "text/x-python",
   "name": "python",
   "nbconvert_exporter": "python",
   "pygments_lexer": "ipython3",
   "version": "3.6.6"
  }
 },
 "nbformat": 4,
 "nbformat_minor": 1
}
