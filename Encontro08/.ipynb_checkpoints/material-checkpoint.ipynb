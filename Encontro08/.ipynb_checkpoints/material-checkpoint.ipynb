{
 "cells": [
  {
   "cell_type": "markdown",
   "metadata": {},
   "source": [
    "# Encontro 8: Centro e Periferia"
   ]
  },
  {
   "cell_type": "code",
   "execution_count": 2,
   "metadata": {
    "scrolled": true
   },
   "outputs": [
    {
     "name": "stderr",
     "output_type": "stream",
     "text": [
      "/usr/lib/python3.6/importlib/_bootstrap.py:219: RuntimeWarning: numpy.dtype size changed, may indicate binary incompatibility. Expected 96, got 88\n",
      "  return f(*args, **kwds)\n",
      "/usr/lib/python3.6/importlib/_bootstrap.py:219: RuntimeWarning: numpy.dtype size changed, may indicate binary incompatibility. Expected 96, got 88\n",
      "  return f(*args, **kwds)\n"
     ]
    },
    {
     "data": {
      "text/html": [
       "<script>requirejs.config({paths: { 'plotly': ['https://cdn.plot.ly/plotly-latest.min']},});if(!window.Plotly) {{require(['plotly'],function(plotly) {window.Plotly=plotly;});}}</script>"
      ],
      "text/vnd.plotly.v1+html": [
       "<script>requirejs.config({paths: { 'plotly': ['https://cdn.plot.ly/plotly-latest.min']},});if(!window.Plotly) {{require(['plotly'],function(plotly) {window.Plotly=plotly;});}}</script>"
      ]
     },
     "metadata": {},
     "output_type": "display_data"
    }
   ],
   "source": [
    "import sys\n",
    "sys.path.append('..')\n",
    "\n",
    "import numpy as np\n",
    "import pandas as pd\n",
    "import seaborn as sns\n",
    "\n",
    "import socnet as sn\n",
    "\n",
    "from scipy.stats.stats import pearsonr\n",
    "from scipy.optimize import minimize\n",
    "\n",
    "%matplotlib inline"
   ]
  },
  {
   "cell_type": "markdown",
   "metadata": {},
   "source": [
    "## Inovação no Jazz: no Centro ou na Periferia?\n",
    "\n",
    "Nesta atividade, vamos explorar onde surgem as inovações no Jazz. O período de análise inclui os anos 50 e 60 do século passado, quando músicos como Dave Brubeck e Miles Davis ficaram extremamente famosos. \n",
    "\n",
    "De onde vem as inovações? São tantas as possibilidades! Será que o artista genial tem uma personalidade distinta? Será que a estrutura neurológica de seu cérebro produz acordes dissonantes e improvisações geniais? Será que escutou uma britadeira quando era pequeno e com isso obteve inspiração para um novo ritmo? De que forma sua história de vida conta? É importante que seus pais tenham lhe incentivado? Será que é importante ter sido órfão e ganhar sustento como trombonista na bandinha da cidade?\n",
    "\n",
    "São tantas as possíveis explicações! Possivelmente são infinitas as explicações e por isso nunca poderíamos ficar satisfeitos, certo? Errado: o trabalho científico precisa assumir que não conhecerá tudo sobre um fenômeno, mas ainda assim buscar o que for possível e relevante. Toda investigação científica necessita de alguma forma iniciar com o contexto, com as teorias conhecidas e delinear os principais mecanismos que se espera que estejam em operação para explicar o fenômeno.\n",
    "\n",
    "\n",
    "### Scaffold 1: Entendimento do Contexto e Delineamento dos Mecanismos\n",
    "\n",
    "Nesse estudo, tomaremos algumas decisões de redução do contexto para alguns mecanismos específicos. Em primeiro lugar, não nos importará a biografia do músico: não iremos ler a biografia de cada músico inovador. Ainda assim, poderemos em algum momento tentar capturar um pouco dessa história de vida a partir de variáveis como *gênero*, *idade*, *raça* e *local de nascimento*. De forma análoga, não iremos nos deter em variáveis que não podemos observar ou só podemos observar a alto custo, como a personalidade e minúcias da vida do artista.\n",
    "\n",
    "A *localização* do artista pode ser extremamente interessante: será que é importante que o artista esteja tocando em Nova Iorque ou em Bruxelas? Sabemos que Nova Iorque foi e ainda é o principal centro de produção de Jazz no mundo. Então poderíamos também indagar se faria diferença verificar quais artistas frequentavam os principais clubes no SoHo, ou as sessões de improvisação no Harlem.\n",
    "\n",
    "Mas por que assumimos que *geografia*, *espaço* e *local* são importantes? São importantes porque os artistas conhecem novos estilos ao encontrar face-a-face com outros músicos. Desta forma, são capazes de ter acesso direto a essas músicas, muito antes que alcancem as estações de rádio e os estúdios de gravação. A partir da ideia de que o contato direto entre os músicos é condição importante para a troca de informações, aprendizado mútuo, podemos dar um passo adicional e afirmar que o que realmente importa para um músico é a sua posição na rede de relacionamentos no mundo do Jazz.\n",
    "\n",
    "A ideia de que inovação no jazz está relacionada com a posição do músico no mundo do Jazz é uma proposição interessante, mas ainda muito genérica para poder ser transformada em uma hipótese testável. A ideia de *posição* pode ser definida de muitas formas, pode estar associada a muitos mecanismos distintos, e pode ser operacionalizada de formas múltiplas. Possivelmente a intuição de posição é uma das mais populares em Análise de Redes Sociais e por isso o \"mercado de ideias\" sobre como definir essa intuição esteja tão abarrotado de propostas.\n",
    "\n",
    "Entre as diversas possibilidades de entendimento do que significa posição, assumiremos um pressuposto importante: para caracterizar um indivíduo, precisamos pensar em qual *região* da rede ele pertence. Geralmente, em um mundo artístico, os padrões de relacionamento entre os músicos formam uma rede com um *centro* com membros altamente relacionados entre si e uma *periferia* na qual os membros se relacionam com o centro mas não entre si. Podemos observar esse fenômeno em outros contextos também: lembra da rede dos usuários que o Trump segue no Twitter? Vários *pundits* eram periféricos.\n",
    "\n",
    "O surgimento de um centro se dá por várias razões, incluindo o *Efeito Mateus* que vimos na primeira aula no contexto de citações. Por motivos de simplificação, pensaremos em apenas duas regiões um centro e uma periferia, embora modelos mais complexos, como por exemplo modelos de múltiplos centros, sejam possíveis. Precisamos ainda de um pressuposto adicional: o centro de uma rede é onde o “burburinho” ocorre. Esses dois pressupostos são razoáveis: é plausível que o centro de uma rede seja onde haja mais densidade de relações, e também assumimos que mesmo que um indivíduo não seja particularmente bem conectado, basta que ele pertença ao centro para estar exposto a esse “caldo criativo”.\n",
    "\n",
    "Entretanto, sem abandonar essa abordagem de “centro e periferia”, poderíamos também argumentar de forma plausível que inovações surgem na periferia do mundo do jazz em vez do centro. Se o sucesso comercial exige que os músicos centrais sigam certos padrões consagrados, apenas músicos periféricos são livres (Ou irrelevantes? Ou insignificantes?) o suficiente para testarem soluções novas. Eles não têm muito a perder, certo? \n",
    "\n",
    "Nos parágrafos acima exploramos o contexto do jazz e, de forma bastante informal, identificamos alguns mecanismos que poderiam explicar o surgimento de inovações. Na próxima seção, adotaremos uma abordagem mais formal para traduzir mecanismos a hipóteses.\n",
    "\n",
    "\n",
    "### Scaffold 2: Tradução dos Mecanismos em Hipóteses\n",
    "\n",
    "Músicos presentes no centro da rede têm mais acesso a outros músicos do jazz, e isso os leva a conhecer novos estilos de forma mais rápida. Esse acesso privilegiado possibilita o aprendizado mais rápido de novos estilos e rápida recombinação de elementos musicais. A recombinação de elementos musicais leva à emersão de novos estilos e inovações. Logo:\n",
    "\n",
    "> Hipótese 1: músicos no centro da rede apresentam maiores chances de inovar\n",
    "\n",
    "Em contrapartida, músicos na periferia tem menor pressão para se conformar aos padrões estabelecidos pela Indústria Fonográfica e pela comunidade de músicos. Desta forma, são mais livres para experimentar novas combinações artísticas. Assim:\n",
    "\n",
    "> Hipótese 2: músicos na periferia da rede apresentam maiores chances de inovar\n",
    "\n",
    "Eu sei o que vocês estão pensando: peraí, que migué é esse? Fazer um conjunto de hipóteses que cobrem todo o universo de possibilidades é fácil!\n",
    "\n",
    "Mas não foi isso o que fizemos! Repare que:\n",
    "\n",
    "* ambas as hipóteses são sustentadas por argumentos coerentes com o contexto apresentado; e\n",
    "* elas **NÃO** cobrem todo o universo de possibilidades. Ambas podem estar erradas, por exemplo.\n",
    "\n",
    "Mas eu concordo com uma coisa: a formulação ainda não está completa. Para estar completa, precisa de uma formalização do que é centro, uma formalização do que é periferia e uma formalização de que grandezas esperamos estar relacionadas.\n",
    "\n",
    "Em dado momento, os professores vão fazer uma exposição sobre o conceito de *coreness*. Use o espaço abaixo para anotações."
   ]
  },
  {
   "cell_type": "raw",
   "metadata": {},
   "source": [
    "coreness -> medida de aderencia ao centro. Quanto maior o coreness, maior a chance de estar no centro"
   ]
  },
  {
   "cell_type": "markdown",
   "metadata": {},
   "source": [
    "### Scaffold 3: Operacionalização e Teste das Hipóteses"
   ]
  },
  {
   "cell_type": "code",
   "execution_count": 3,
   "metadata": {},
   "outputs": [],
   "source": [
    "def cost(c, A):\n",
    "    row = np.matrix(c)\n",
    "\n",
    "    C = np.multiply(row.transpose(), row)\n",
    "\n",
    "    correlation, _ = pearsonr(C.flat, A.flat)\n",
    "\n",
    "    return -correlation\n",
    "\n",
    "\n",
    "def write_coreness(g):\n",
    "    length = g.number_of_nodes()\n",
    "\n",
    "    c = np.random.rand(length)\n",
    "\n",
    "    A = sn.build_matrix(g)\n",
    "\n",
    "    bounds = [(0, 1) for _ in range(length)]\n",
    "\n",
    "    result = minimize(cost, c, args=(A,), bounds=bounds)\n",
    "\n",
    "    norm = 0\n",
    "\n",
    "    for i, n in enumerate(g.nodes):\n",
    "        g.nodes[n]['coreness'] = result['x'][i]\n",
    "\n",
    "        norm += g.nodes[n]['coreness'] ** 2\n",
    "\n",
    "    for n in g.nodes:\n",
    "        g.nodes[n]['coreness'] /= norm"
   ]
  },
  {
   "cell_type": "markdown",
   "metadata": {},
   "source": [
    "Dados disponíveis:\n",
    "* as redes cobrem os períodos de 1930 a 1969 e estão separados por ano;\n",
    "* os nós são artistas e existe uma aresta entre dois artistas se eles participaram de uma mesma sessão de gravação;\n",
    "* cada nó tem um atributo `sessions` que indica de quantas sessões ele participu e um atributo `innovats` que indica de quantas sessões *iovadoras* ele participou.\n",
    "* cada aresta possui um peso que é inversamente proporcional ao tamanho das sessões."
   ]
  },
  {
   "cell_type": "code",
   "execution_count": 38,
   "metadata": {
    "scrolled": false
   },
   "outputs": [],
   "source": [
    "g1 = sn.load_graph('graphs/1953.gml')\n",
    "g2 = sn.load_graph('graphs/1955.gml')\n",
    "g3 = sn.load_graph('graphs/1957.gml')\n",
    "g4 = sn.load_graph('graphs/1959.gml')\n",
    "g5 = sn.load_graph('graphs/1961.gml')\n",
    "g6 = sn.load_graph('graphs/1963.gml')\n",
    "g7 = sn.load_graph('graphs/1965.gml')\n",
    "g8 = sn.load_graph('graphs/1967.gml')"
   ]
  },
  {
   "cell_type": "code",
   "execution_count": 44,
   "metadata": {},
   "outputs": [],
   "source": [
    "g9 = sn.load_graph('graphs/1952.gml')\n",
    "g10 = sn.load_graph('graphs/1954.gml')\n",
    "g11 = sn.load_graph('graphs/1956.gml')\n",
    "g12 = sn.load_graph('graphs/1958.gml')\n",
    "g13 = sn.load_graph('graphs/1960.gml')\n",
    "g14 = sn.load_graph('graphs/1962.gml')\n",
    "g15 = sn.load_graph('graphs/1964.gml')\n",
    "g16 = sn.load_graph('graphs/1966.gml')\n",
    "g17 = sn.load_graph('graphs/1968.gml')"
   ]
  },
  {
   "cell_type": "markdown",
   "metadata": {},
   "source": [
    "Por simplicidade, vou remover da rede os artistas que participaram de poucas sessões."
   ]
  },
  {
   "cell_type": "code",
   "execution_count": 45,
   "metadata": {},
   "outputs": [],
   "source": [
    "sg1 = g1.copy()\n",
    "sg2 = g2.copy()\n",
    "sg3 = g3.copy()\n",
    "sg4 = g4.copy()\n",
    "sg5 = g5.copy()\n",
    "sg6 = g6.copy()\n",
    "sg7 = g7.copy()\n",
    "sg8 = g8.copy()\n",
    "sg9 = g9.copy()\n",
    "sg10 = g10.copy()\n",
    "sg11 = g11.copy()\n",
    "sg12 = g12.copy()\n",
    "sg13 = g13.copy()\n",
    "sg14 = g14.copy()\n",
    "sg15 = g15.copy()\n",
    "sg16 = g16.copy()\n",
    "sg17 = g17.copy()\n",
    "\n",
    "nodes1 = list(sg1.nodes)\n",
    "nodes2 = list(sg2.nodes)\n",
    "nodes3 = list(sg3.nodes)\n",
    "nodes4 = list(sg4.nodes)\n",
    "nodes5 = list(sg5.nodes)\n",
    "nodes6 = list(sg6.nodes)\n",
    "nodes7 = list(sg7.nodes)\n",
    "nodes8 = list(sg8.nodes)\n",
    "nodes9 = list(sg9.nodes)\n",
    "nodes10 = list(sg10.nodes)\n",
    "nodes11 = list(sg11.nodes)\n",
    "nodes12 = list(sg12.nodes)\n",
    "nodes13 = list(sg13.nodes)\n",
    "nodes14 = list(sg14.nodes)\n",
    "nodes15 = list(sg15.nodes)\n",
    "nodes16 = list(sg16.nodes)\n",
    "nodes17 = list(sg17.nodes)\n",
    "\n",
    "for n in nodes1:\n",
    "    if sg1.nodes[n]['sessions'] < 10:\n",
    "        sg1.remove_node(n)\n",
    "        \n",
    "for n in nodes2:\n",
    "    if sg2.nodes[n]['sessions'] < 10:\n",
    "        sg2.remove_node(n)\n",
    "        \n",
    "for n in nodes3:\n",
    "    if sg3.nodes[n]['sessions'] < 10:\n",
    "        sg3.remove_node(n)\n",
    "        \n",
    "for n in nodes4:\n",
    "    if sg4.nodes[n]['sessions'] < 10:\n",
    "        sg4.remove_node(n)\n",
    "        \n",
    "for n in nodes5:\n",
    "    if sg5.nodes[n]['sessions'] < 10:\n",
    "        sg5.remove_node(n)\n",
    "        \n",
    "for n in nodes6:\n",
    "    if sg6.nodes[n]['sessions'] < 10:\n",
    "        sg6.remove_node(n)\n",
    "        \n",
    "for n in nodes7:\n",
    "    if sg7.nodes[n]['sessions'] < 10:\n",
    "        sg7.remove_node(n)\n",
    "        \n",
    "for n in nodes8:\n",
    "    if sg8.nodes[n]['sessions'] < 10:\n",
    "        sg8.remove_node(n)\n",
    "        \n",
    "for n in nodes9:\n",
    "    if sg9.nodes[n]['sessions'] < 10:\n",
    "        sg9.remove_node(n)\n",
    "        \n",
    "for n in nodes10:\n",
    "    if sg10.nodes[n]['sessions'] < 10:\n",
    "        sg10.remove_node(n)\n",
    "        \n",
    "for n in nodes11:\n",
    "    if sg11.nodes[n]['sessions'] < 10:\n",
    "        sg11.remove_node(n)\n",
    "        \n",
    "for n in nodes12:\n",
    "    if sg12.nodes[n]['sessions'] < 10:\n",
    "        sg12.remove_node(n)\n",
    "        \n",
    "for n in nodes13:\n",
    "    if sg13.nodes[n]['sessions'] < 10:\n",
    "        sg13.remove_node(n)\n",
    "        \n",
    "for n in nodes14:\n",
    "    if sg14.nodes[n]['sessions'] < 10:\n",
    "        sg14.remove_node(n)\n",
    "        \n",
    "for n in nodes15:\n",
    "    if sg15.nodes[n]['sessions'] < 10:\n",
    "        sg15.remove_node(n)\n",
    "        \n",
    "for n in nodes16:\n",
    "    if sg16.nodes[n]['sessions'] < 10:\n",
    "        sg16.remove_node(n)\n",
    "        \n",
    "for n in nodes17:\n",
    "    if sg17.nodes[n]['sessions'] < 10:\n",
    "        sg17.remove_node(n)"
   ]
  },
  {
   "cell_type": "markdown",
   "metadata": {},
   "source": [
    "Agora estamos prontos para calcular o coreness."
   ]
  },
  {
   "cell_type": "code",
   "execution_count": 51,
   "metadata": {},
   "outputs": [],
   "source": [
    "write_coreness(sg1)\n",
    "write_coreness(sg2)\n",
    "write_coreness(sg3)\n",
    "write_coreness(sg4)\n",
    "write_coreness(sg5)\n",
    "write_coreness(sg6)\n",
    "write_coreness(sg7)\n",
    "write_coreness(sg8)"
   ]
  },
  {
   "cell_type": "code",
   "execution_count": 52,
   "metadata": {},
   "outputs": [],
   "source": [
    "write_coreness(sg9)\n",
    "write_coreness(sg10)\n",
    "write_coreness(sg11)\n",
    "write_coreness(sg12)\n",
    "write_coreness(sg13)\n",
    "write_coreness(sg14)\n",
    "write_coreness(sg15)\n",
    "write_coreness(sg16)\n",
    "write_coreness(sg17)"
   ]
  },
  {
   "cell_type": "markdown",
   "metadata": {},
   "source": [
    "### Verificando relação"
   ]
  },
  {
   "cell_type": "code",
   "execution_count": 53,
   "metadata": {},
   "outputs": [],
   "source": [
    "l1_c = []\n",
    "l1_c.extend( [sg1.nodes[n]['coreness'] for n in sg1.nodes] )\n",
    "l1_c.extend( [sg2.nodes[n]['coreness'] for n in sg2.nodes] )\n",
    "l1_c.extend( [sg3.nodes[n]['coreness'] for n in sg3.nodes] )\n",
    "l1_c.extend( [sg4.nodes[n]['coreness'] for n in sg4.nodes] )\n",
    "l1_c.extend( [sg5.nodes[n]['coreness'] for n in sg5.nodes] )\n",
    "l1_c.extend( [sg6.nodes[n]['coreness'] for n in sg6.nodes] )\n",
    "l1_c.extend( [sg7.nodes[n]['coreness'] for n in sg7.nodes] )\n",
    "l1_c.extend( [sg8.nodes[n]['coreness'] for n in sg8.nodes] )\n",
    "l1_c.extend( [sg9.nodes[n]['coreness'] for n in sg9.nodes] )\n",
    "l1_c.extend( [sg10.nodes[n]['coreness'] for n in sg10.nodes] )\n",
    "l1_c.extend( [sg11.nodes[n]['coreness'] for n in sg11.nodes] )\n",
    "l1_c.extend( [sg12.nodes[n]['coreness'] for n in sg12.nodes] )\n",
    "l1_c.extend( [sg13.nodes[n]['coreness'] for n in sg13.nodes] )\n",
    "l1_c.extend( [sg14.nodes[n]['coreness'] for n in sg14.nodes] )\n",
    "l1_c.extend( [sg15.nodes[n]['coreness'] for n in sg15.nodes] )\n",
    "l1_c.extend( [sg16.nodes[n]['coreness'] for n in sg16.nodes] )\n",
    "l1_c.extend( [sg17.nodes[n]['coreness'] for n in sg17.nodes] )\n",
    "\n",
    "l1_i = []\n",
    "l1_i.extend( [sg1.nodes[n]['innovats']/sg1.nodes[n]['sessions'] for n in sg1.nodes] )\n",
    "l1_i.extend( [sg2.nodes[n]['innovats']/sg2.nodes[n]['sessions'] for n in sg2.nodes] )\n",
    "l1_i.extend( [sg3.nodes[n]['innovats']/sg3.nodes[n]['sessions'] for n in sg3.nodes] )\n",
    "l1_i.extend( [sg4.nodes[n]['innovats']/sg4.nodes[n]['sessions'] for n in sg4.nodes] )\n",
    "l1_i.extend( [sg5.nodes[n]['innovats']/sg5.nodes[n]['sessions'] for n in sg5.nodes] )\n",
    "l1_i.extend( [sg6.nodes[n]['innovats']/sg6.nodes[n]['sessions'] for n in sg6.nodes] )\n",
    "l1_i.extend( [sg7.nodes[n]['innovats']/sg7.nodes[n]['sessions'] for n in sg7.nodes] )\n",
    "l1_i.extend( [sg8.nodes[n]['innovats']/sg8.nodes[n]['sessions'] for n in sg8.nodes] )\n",
    "l1_i.extend( [sg9.nodes[n]['innovats']/sg9.nodes[n]['sessions'] for n in sg9.nodes] )\n",
    "l1_i.extend( [sg10.nodes[n]['innovats']/sg10.nodes[n]['sessions'] for n in sg10.nodes] )\n",
    "l1_i.extend( [sg11.nodes[n]['innovats']/sg11.nodes[n]['sessions'] for n in sg11.nodes] )\n",
    "l1_i.extend( [sg12.nodes[n]['innovats']/sg12.nodes[n]['sessions'] for n in sg12.nodes] )\n",
    "l1_i.extend( [sg13.nodes[n]['innovats']/sg13.nodes[n]['sessions'] for n in sg13.nodes] )\n",
    "l1_i.extend( [sg14.nodes[n]['innovats']/sg14.nodes[n]['sessions'] for n in sg14.nodes] )\n",
    "l1_i.extend( [sg15.nodes[n]['innovats']/sg15.nodes[n]['sessions'] for n in sg15.nodes] )\n",
    "l1_i.extend( [sg16.nodes[n]['innovats']/sg16.nodes[n]['sessions'] for n in sg16.nodes] )\n",
    "l1_i.extend( [sg17.nodes[n]['innovats']/sg17.nodes[n]['sessions'] for n in sg17.nodes] )\n",
    "\n",
    "\n",
    "l1_y = []\n",
    "for i in range(len(sg1.nodes)):\n",
    "    l1_y.append('1953a')\n",
    "for i in range(len(sg2.nodes)):\n",
    "    l1_y.append('1955a')\n",
    "for i in range(len(sg3.nodes)):\n",
    "    l1_y.append('1957a')\n",
    "for i in range(len(sg4.nodes)):\n",
    "    l1_y.append('1959a')\n",
    "for i in range(len(sg5.nodes)):\n",
    "    l1_y.append('1961a')\n",
    "for i in range(len(sg6.nodes)):\n",
    "    l1_y.append('1963a')\n",
    "for i in range(len(sg7.nodes)):\n",
    "    l1_y.append('1965a')\n",
    "for i in range(len(sg8.nodes)):\n",
    "    l1_y.append('1967a')\n",
    "for i in range(len(sg9.nodes)):\n",
    "    l1_y.append('1952a')\n",
    "for i in range(len(sg10.nodes)):\n",
    "    l1_y.append('1954a')\n",
    "for i in range(len(sg11.nodes)):\n",
    "    l1_y.append('1956a')\n",
    "for i in range(len(sg12.nodes)):\n",
    "    l1_y.append('1958a')\n",
    "for i in range(len(sg13.nodes)):\n",
    "    l1_y.append('1960a')\n",
    "for i in range(len(sg14.nodes)):\n",
    "    l1_y.append('1962a')\n",
    "for i in range(len(sg15.nodes)):\n",
    "    l1_y.append('1964a')\n",
    "for i in range(len(sg16.nodes)):\n",
    "    l1_y.append('1966a')\n",
    "for i in range(len(sg17.nodes)):\n",
    "    l1_y.append('1968a')\n"
   ]
  },
  {
   "cell_type": "code",
   "execution_count": 54,
   "metadata": {},
   "outputs": [
    {
     "data": {
      "text/plain": [
       "<seaborn.axisgrid.FacetGrid at 0x7f0593c5df28>"
      ]
     },
     "execution_count": 54,
     "metadata": {},
     "output_type": "execute_result"
    },
    {
     "data": {
      "image/png": "[encoded data removed]",
      "text/plain": [
       "<Figure size 427.625x360 with 1 Axes>"
      ]
     },
     "metadata": {},
     "output_type": "display_data"
    }
   ],
   "source": [
    "data1 = pd.DataFrame({\n",
    "    'coreness': l1_c,\n",
    "    'innovats': l1_i,\n",
    "    'year': l1_y\n",
    "})\n",
    "\n",
    "sns.relplot(data=data1, hue = 'year', x='coreness', y='innovats')"
   ]
  },
  {
   "cell_type": "code",
   "execution_count": 66,
   "metadata": {},
   "outputs": [
    {
     "data": {
      "text/plain": [
       "(-0.11555692369505925, 0.0715723821097452)"
      ]
     },
     "execution_count": 66,
     "metadata": {},
     "output_type": "execute_result"
    }
   ],
   "source": [
    "import scipy.signal as ss\n",
    "\n",
    "#eval\n",
    "\n",
    "a = [sg1.nodes[n]['coreness'] for n in sg1.nodes]\n",
    "b = [sg1.nodes[n]['innovats']/sg1.nodes[n]['sessions'] for n in sg1.nodes]\n",
    "\n",
    "# len(a)==len(b)\n",
    "corr = pearsonr (a, b)\n",
    "corr"
   ]
  },
  {
   "cell_type": "markdown",
   "metadata": {},
   "source": [
    "Como podemos analisar essa relação de forma mais analítica?\n",
    "\n",
    "\n",
    "## Das análises à revisão da teoria\n",
    "\n",
    "Muitas vezes, em um método científico lógico-dedutivo, geramos hipóteses que esperamos corroborar, e não estamos prontos para enfrentar resultados que fujam daquilo que é esperado. Por exemplo: deduzimos a hipótese de que a força da gravidade age de forma homogênea: corpos lançados simultaneamente de uma certa altura deverão cair na mesma velocidade. Se o experimento é “bem realizado”, obtemos o mesmo tempo de percurso de queda. Se os corpos chegam em momentos distintos, é possível que redesenhemos o experimento até acharmos o que esperamos. Por exemplo: se lançarmos uma bola de chumbo e uma folha de papel aberta de um prédio, é óbvio que a bola de chumbo chegará mais rápido. Mas fomos “treinados” a refazer o experimento e tomar algum objeto comparável à bola de chumbo, do que modelar a resistência do ar à folha de papel.\n",
    "\n",
    "Entretanto, os resultados de um experimento ou de uma pesquisa podem “falhar” em corroborar as hipóteses desenvolvidas e dar pistas que nossa teoria não é completa. Esse é o final do ciclo de investigação científica e corresponde aos passos **4** (Interpretação dos resultados na linguagem de SNA) e **5** (Extrapolação/generalização dos resultados, reinterpretação do contexto, identificação de implicações e próximos passos) de nosso curso. Antes de definir e dar diretrizes para esses passos, oferecemos um exemplo de uma pesquisa que realizou esses últimos passos.\n",
    "\n",
    "Nosso exemplo se inicia com a diferença entre “laços fortes” e “laços fracos”, uma das teorias centrais na Sociologia (ver Granovetter, 1977). Essa teoria traz as seguintes ideias conectadas:\n",
    "\n",
    "1.\tHá diferença entre “laços fracos” e “laços fortes”. “Laços fortes” são relacionamentos com as pessoas próximas, íntimas; “laços fracos”, em contraste, são relacionamentos onde o elemento “confiança” não é tão forte.\n",
    "\n",
    "2.\tÉ preciso confiança para confidenciar assuntos sérios.\n",
    "\n",
    "3.\tLogo, as pessoas confidenciam assuntos sérios com laços fortes.\n",
    "\n",
    "A partir dessa estrutura “dedutiva”, a pesquisa de “capital social” cresceu e desenvolveu uma ampla gama de ferramentas e abordagens, incluindo a “Core Discussion Network” (CDN), que foi incluído no censo americano (Burt, 1984). Através dessa ferramenta, se pergunta “com quem você discute assuntos importantes” e através dessa pergunta se identifica as pessoas que são “laços fortes” do entrevistado. Com o tempo, passou-se a inverter a ordem:\n",
    "\n",
    "1.\tCDN explicita laços fortes.\n",
    "\n",
    "2.\tLaços fortes do CDN serão ativados para confidências de assuntos importantes.\n",
    "\n",
    "Mario Luis Small (2013) investigou de que forma o CDN muda no tempo. Seu intuito inicial era apenas explorar de que forma as pessoas eram agregadas ou expulsas da rede de laços fortes identificada através do CDN. Entretanto, ele percebeu que havia algumas inconsistências:\n",
    "\n",
    "* Nem todos os “assuntos importantes” eram realmente “confidências” (Bearman & Parigi, 2004). Por exemplo, falar sobre “política” (um assunto importante que nem sempre se abre para um colega do trabalho) é muito diferente de falar sobre “divórcio” (um assunto emocionalmente forte que implicava em um grau de intimidade e confiança muito alto).\n",
    "\n",
    "* Nem sempre as pessoas confidenciavam assuntos realmente importantes com as pessoas próximas citadas no CDN. Muitas vezes, Small percebeu, as pessoas preferiam falar sobre a possibilidade de abandonar o doutorado com um doutorando mais ou menos desconhecido na mesa do bar do que falar sobre isso com os pais.\n",
    "\n",
    "* Ou seja: é possível confidenciar assuntos importantes com “laços fracos” não incluídos no CDN.\n",
    "\n",
    "Essa descoberta (passo **4** em nosso ciclo), trazia uma série de problemas para a teoria. Se é possível tomar um laço fraco como confidente, isso significa que não há diferença entre “laços fracos” e “laços fortes”? Um dos pilares da Sociologia parecia se instabilizar.\n",
    "\n",
    "A partir desses achados, Mario Luis Small percebeu que havia sérias limitações na pesquisa (nosso passo **5**: extrapolação/generalização dos resultados, reinterpretação do contexto, identificação de implicações e próximos passos). Sabia-se que “laços fracos” eram eventualmente confidentes, mas não se sabia porque isso ocorria. Por isso, foi levado a realizar uma pesquisa qualitativa com vários doutorandos (Small, 2017). Ele descobriu que havia algumas circunstâncias que levavam os alunos a confidenciarem com “desconhecidos” ao invés de pessoas próximas:\n",
    "\n",
    "* situações onde a pessoa próxima estava distante geograficamente;\n",
    "* situações onde havia o risco de pessoas próximas falarem os segredos para outras pessoas próximas;\n",
    "* situações onde as pessoas próximas não conheciam bem o assunto e isso poderia levar a conselhos ruins ou expectativas distorcidas.\n",
    "\n",
    "Frente a essas situações, “estranhos” eram escolhidos quando:\n",
    "\n",
    "* estavam disponíveis;\n",
    "* conheciam o assunto e por isso poderiam dar conselhos relevantes;\n",
    "\n",
    "Vemos um movimento de “ida e volta” do passo 5 à realização de uma nova pesquisa (passos 1 a 4), para obter-se novos resultados, até que as novas interpretações permitam a articulação dos achados em uma nova teoria mais geral. Voltando ao contexto dessa pesquisa, as novas descobertas não invalidam a teoria anterior, mas complementam.\n",
    "\n",
    "O último ciclo quando ingressa no passo 5 traz a seguinte revisão à teoria:\n",
    "\n",
    "* laços fortes ainda são utilizados para muitos temas importantes e confidências, mas não para todos os assuntos importantes e confidências. \n",
    "* as situações que exigem a confidência a estranhos são aquelas onde esses “confidentes” estão próximos, disponíveis e entendem do assunto em questão\n",
    "* isso implica em uma escolha que é guiada por algum tipo de “cálculo” do indivíduo que busca se aconselhar\n",
    "\n",
    "Podemos agora definir e explicitar o que ocorre nesses últimos passos. Para os três primeiros, vocês tiveram *scaffold*. Para estes dois últimos, terão que escrever e entregar!\n",
    "\n",
    "### 4: Interpretação dos resultados na linguagem de SNA (Social Network Analysis)\n",
    "\n",
    "A partir dos resultados obtidos das análises, descreva o que está acontecendo. Isso inclui explicitar:\n",
    "•\tquais hipóteses foram corroboradas\n",
    "•\tquais hipóteses foram rejeitadas\n",
    "•\ttrazer análises suplementares que testem a robustez dos achados\n",
    "•\tBuscar situações onde as hipóteses corroboradas poderiam ser rejeitadas (condições de fronteira)\n",
    "•\tIdentificar situações alternativas também que corroboram as hipóteses\n",
    "\n",
    "Essa interpretação pode ser feita a partir da citação dos dados obtidos nas análises e não precisa ser “didática”. Basta um “de para” dos resultados às hipóteses originalmente elaboradas para guiar o leitor."
   ]
  },
  {
   "cell_type": "raw",
   "metadata": {},
   "source": [
    "A hipótese 1 que diz sobre quem está no centro é mais inovador foi rejeitada, enquanto a hipótese 2 que diz que quem está na periferia tem mais chance de ser inovador foi corroborada em partes. Como pode ser visto no gráfico de correlação acima, os artistas que tem um maior coreness a maioria tem uma taxa de inovaçã pequena. Enquanto aqueles que possuem um coreness menor, está distribuidos entre inovadores e não inovadores. Não é possível afirma que quem está na periferia é obrigatoriamente inovador, mas os inovadores estão na perifeira, segundo o gráfico."
   ]
  },
  {
   "cell_type": "markdown",
   "metadata": {},
   "source": [
    "### 5: Extrapolação/generalização dos resultados, reinterpretação do contexto, identificação de implicações e próximos passos\n",
    "\n",
    "A partir da interpretação técnica realizada, nesse passo se procede uma discussão do que isso significa à luz do que foi elaborado nos passos 1 e 2 originalmente:\n",
    "\n",
    "* Por que houve hipóteses rejeitadas? Isso diz respeito ao contexto específico onde foram testadas?\n",
    "\n",
    "* Há explicações alternativas ou motivos obscuros para algo acontecer que justificaria pesquisas futuras? Essas indagações remetem às limitações da pesquisa.\n",
    "\n",
    "* Os achados permitem aprimorar a teoria? Por exemplo, na pesquisa citada, agregou-se situações específicas e a escolha individual que se origina na interpretação da situação e avaliação das alternativas existentes."
   ]
  },
  {
   "cell_type": "raw",
   "metadata": {},
   "source": [
    "Aqueles que estão no centro possui uma menor taxa de inovação, talve devido ao fato de já estarem estabelecidos no mundo da música. Assim, a taxa de inovação é bem semelhante, talvez por seguir um mesmo padrão de música (sucesso atual da época). Enquanto aqueles que estão na periferia, talve estejam divididos entre aqueles que tentam inovar para ter um novo espaço no mundo do jazz levando ao sucesso (inovadores) e aqueles que tentam seu espaço replicando o que já está fazendo sucesso (baixa inovação)."
   ]
  },
  {
   "cell_type": "markdown",
   "metadata": {},
   "source": [
    "## Referências\n",
    "\n",
    "Bearman, P., & Parigi, P. (2004). Cloning headless frogs and other important matters: Conversation topics and network structure. Social Forces, 83(2), 535-557.\n",
    "\n",
    "Burt, R. S. (1984). Network items and the general social survey. Social networks, 6(4), 293-339.\n",
    "\n",
    "Granovetter, Mark S. \"The strength of weak ties.\" Social networks. 1977. 347-367.\n",
    "\n",
    "Small, M. L. (2013). Weak ties and the core discussion network: Why people regularly discuss important matters with unimportant alters. Social networks, 35(3), 470-483.\n",
    "\n",
    "Small, M. L. (2017). Someone to Talk to. Oxford University Press.\n",
    "\n",
    "### Observações"
   ]
  },
  {
   "cell_type": "raw",
   "metadata": {},
   "source": []
  }
 ],
 "metadata": {
  "kernelspec": {
   "display_name": "Python 3",
   "language": "python",
   "name": "python3"
  },
  "language_info": {
   "codemirror_mode": {
    "name": "ipython",
    "version": 3
   },
   "file_extension": ".py",
   "mimetype": "text/x-python",
   "name": "python",
   "nbconvert_exporter": "python",
   "pygments_lexer": "ipython3",
   "version": "3.6.5"
  }
 },
 "nbformat": 4,
 "nbformat_minor": 1
}
